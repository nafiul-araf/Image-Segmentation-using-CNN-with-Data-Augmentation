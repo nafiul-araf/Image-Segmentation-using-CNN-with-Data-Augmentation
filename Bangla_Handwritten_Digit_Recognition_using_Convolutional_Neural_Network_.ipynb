{
  "nbformat": 4,
  "nbformat_minor": 0,
  "metadata": {
    "colab": {
      "name": "Bangla Handwritten Digit Recognition using Convolutional Neural Network .ipynb",
      "provenance": [],
      "collapsed_sections": [],
      "authorship_tag": "ABX9TyPh5m6OhCWVQ6aZBl6I1Saw",
      "include_colab_link": true
    },
    "kernelspec": {
      "name": "python3",
      "display_name": "Python 3"
    }
  },
  "cells": [
    {
      "cell_type": "markdown",
      "metadata": {
        "id": "view-in-github",
        "colab_type": "text"
      },
      "source": [
        "<a href=\"https://colab.research.google.com/github/nafiul-araf/Image-Segmentation-using-CNN-with-Data-Augmentation/blob/main/Bangla_Handwritten_Digit_Recognition_using_Convolutional_Neural_Network_.ipynb\" target=\"_parent\"><img src=\"https://colab.research.google.com/assets/colab-badge.svg\" alt=\"Open In Colab\"/></a>"
      ]
    },
    {
      "cell_type": "code",
      "metadata": {
        "id": "KC7yn52BpOQE",
        "colab": {
          "base_uri": "https://localhost:8080/"
        },
        "outputId": "72154247-a1d6-44b5-d2ad-61c4d24b48b8"
      },
      "source": [
        "from google.colab import drive\n",
        "drive.mount('/content/gdrive')"
      ],
      "execution_count": 1,
      "outputs": [
        {
          "output_type": "stream",
          "text": [
            "Mounted at /content/gdrive\n"
          ],
          "name": "stdout"
        }
      ]
    },
    {
      "cell_type": "code",
      "metadata": {
        "id": "cWbbd2IAqT3B"
      },
      "source": [
        "import numpy as np\n",
        "import pandas as pd\n",
        "import matplotlib.pyplot as plt\n",
        "%matplotlib inline\n",
        "from sklearn.model_selection import train_test_split\n",
        "import tensorflow as tf\n",
        "from tensorflow import keras"
      ],
      "execution_count": 2,
      "outputs": []
    },
    {
      "cell_type": "code",
      "metadata": {
        "id": "AIVMVQj4q70G"
      },
      "source": [
        "df_male=pd.read_csv('/content/gdrive/MyDrive/maleDigits.csv')"
      ],
      "execution_count": 3,
      "outputs": []
    },
    {
      "cell_type": "code",
      "metadata": {
        "id": "bP1eaTwFrE5P"
      },
      "source": [
        "df_female=pd.read_csv('/content/gdrive/MyDrive/femaleDigits.csv')"
      ],
      "execution_count": 4,
      "outputs": []
    },
    {
      "cell_type": "code",
      "metadata": {
        "colab": {
          "base_uri": "https://localhost:8080/"
        },
        "id": "eXC6Vks2rNtb",
        "outputId": "d6f905fa-68b9-4e15-ccfe-77f7d0b879ee"
      },
      "source": [
        "df_male.shape"
      ],
      "execution_count": 5,
      "outputs": [
        {
          "output_type": "execute_result",
          "data": {
            "text/plain": [
              "(15208, 785)"
            ]
          },
          "metadata": {
            "tags": []
          },
          "execution_count": 5
        }
      ]
    },
    {
      "cell_type": "code",
      "metadata": {
        "colab": {
          "base_uri": "https://localhost:8080/"
        },
        "id": "iup9P6NAsHWo",
        "outputId": "fec0162d-5a5e-4e4b-e51a-87b8f7a486ba"
      },
      "source": [
        "df_female.shape"
      ],
      "execution_count": 6,
      "outputs": [
        {
          "output_type": "execute_result",
          "data": {
            "text/plain": [
              "(15622, 785)"
            ]
          },
          "metadata": {
            "tags": []
          },
          "execution_count": 6
        }
      ]
    },
    {
      "cell_type": "code",
      "metadata": {
        "colab": {
          "base_uri": "https://localhost:8080/",
          "height": 253
        },
        "id": "7EwpPzW0sJcK",
        "outputId": "c86cb89a-99f3-471a-cfad-ed81031cb200"
      },
      "source": [
        "df_male.head()"
      ],
      "execution_count": 7,
      "outputs": [
        {
          "output_type": "execute_result",
          "data": {
            "text/html": [
              "<div>\n",
              "<style scoped>\n",
              "    .dataframe tbody tr th:only-of-type {\n",
              "        vertical-align: middle;\n",
              "    }\n",
              "\n",
              "    .dataframe tbody tr th {\n",
              "        vertical-align: top;\n",
              "    }\n",
              "\n",
              "    .dataframe thead th {\n",
              "        text-align: right;\n",
              "    }\n",
              "</style>\n",
              "<table border=\"1\" class=\"dataframe\">\n",
              "  <thead>\n",
              "    <tr style=\"text-align: right;\">\n",
              "      <th></th>\n",
              "      <th>pixel0</th>\n",
              "      <th>pixel1</th>\n",
              "      <th>pixel2</th>\n",
              "      <th>pixel3</th>\n",
              "      <th>pixel4</th>\n",
              "      <th>pixel5</th>\n",
              "      <th>pixel6</th>\n",
              "      <th>pixel7</th>\n",
              "      <th>pixel8</th>\n",
              "      <th>pixel9</th>\n",
              "      <th>pixel10</th>\n",
              "      <th>pixel11</th>\n",
              "      <th>pixel12</th>\n",
              "      <th>pixel13</th>\n",
              "      <th>pixel14</th>\n",
              "      <th>pixel15</th>\n",
              "      <th>pixel16</th>\n",
              "      <th>pixel17</th>\n",
              "      <th>pixel18</th>\n",
              "      <th>pixel19</th>\n",
              "      <th>pixel20</th>\n",
              "      <th>pixel21</th>\n",
              "      <th>pixel22</th>\n",
              "      <th>pixel23</th>\n",
              "      <th>pixel24</th>\n",
              "      <th>pixel25</th>\n",
              "      <th>pixel26</th>\n",
              "      <th>pixel27</th>\n",
              "      <th>pixel28</th>\n",
              "      <th>pixel29</th>\n",
              "      <th>pixel30</th>\n",
              "      <th>pixel31</th>\n",
              "      <th>pixel32</th>\n",
              "      <th>pixel33</th>\n",
              "      <th>pixel34</th>\n",
              "      <th>pixel35</th>\n",
              "      <th>pixel36</th>\n",
              "      <th>pixel37</th>\n",
              "      <th>pixel38</th>\n",
              "      <th>pixel39</th>\n",
              "      <th>...</th>\n",
              "      <th>pixel745</th>\n",
              "      <th>pixel746</th>\n",
              "      <th>pixel747</th>\n",
              "      <th>pixel748</th>\n",
              "      <th>pixel749</th>\n",
              "      <th>pixel750</th>\n",
              "      <th>pixel751</th>\n",
              "      <th>pixel752</th>\n",
              "      <th>pixel753</th>\n",
              "      <th>pixel754</th>\n",
              "      <th>pixel755</th>\n",
              "      <th>pixel756</th>\n",
              "      <th>pixel757</th>\n",
              "      <th>pixel758</th>\n",
              "      <th>pixel759</th>\n",
              "      <th>pixel760</th>\n",
              "      <th>pixel761</th>\n",
              "      <th>pixel762</th>\n",
              "      <th>pixel763</th>\n",
              "      <th>pixel764</th>\n",
              "      <th>pixel765</th>\n",
              "      <th>pixel766</th>\n",
              "      <th>pixel767</th>\n",
              "      <th>pixel768</th>\n",
              "      <th>pixel769</th>\n",
              "      <th>pixel770</th>\n",
              "      <th>pixel771</th>\n",
              "      <th>pixel772</th>\n",
              "      <th>pixel773</th>\n",
              "      <th>pixel774</th>\n",
              "      <th>pixel775</th>\n",
              "      <th>pixel776</th>\n",
              "      <th>pixel777</th>\n",
              "      <th>pixel778</th>\n",
              "      <th>pixel779</th>\n",
              "      <th>pixel780</th>\n",
              "      <th>pixel781</th>\n",
              "      <th>pixel782</th>\n",
              "      <th>pixel783</th>\n",
              "      <th>label</th>\n",
              "    </tr>\n",
              "  </thead>\n",
              "  <tbody>\n",
              "    <tr>\n",
              "      <th>0</th>\n",
              "      <td>0</td>\n",
              "      <td>2</td>\n",
              "      <td>0</td>\n",
              "      <td>1</td>\n",
              "      <td>1</td>\n",
              "      <td>1</td>\n",
              "      <td>1</td>\n",
              "      <td>0</td>\n",
              "      <td>2</td>\n",
              "      <td>3</td>\n",
              "      <td>0</td>\n",
              "      <td>0</td>\n",
              "      <td>3</td>\n",
              "      <td>0</td>\n",
              "      <td>1</td>\n",
              "      <td>1</td>\n",
              "      <td>5</td>\n",
              "      <td>3</td>\n",
              "      <td>3</td>\n",
              "      <td>2</td>\n",
              "      <td>0</td>\n",
              "      <td>0</td>\n",
              "      <td>0</td>\n",
              "      <td>1</td>\n",
              "      <td>0</td>\n",
              "      <td>2</td>\n",
              "      <td>1</td>\n",
              "      <td>1</td>\n",
              "      <td>0</td>\n",
              "      <td>0</td>\n",
              "      <td>0</td>\n",
              "      <td>1</td>\n",
              "      <td>0</td>\n",
              "      <td>0</td>\n",
              "      <td>1</td>\n",
              "      <td>4</td>\n",
              "      <td>3</td>\n",
              "      <td>5</td>\n",
              "      <td>3</td>\n",
              "      <td>4</td>\n",
              "      <td>...</td>\n",
              "      <td>252</td>\n",
              "      <td>251</td>\n",
              "      <td>255</td>\n",
              "      <td>255</td>\n",
              "      <td>255</td>\n",
              "      <td>255</td>\n",
              "      <td>210</td>\n",
              "      <td>162</td>\n",
              "      <td>39</td>\n",
              "      <td>1</td>\n",
              "      <td>2</td>\n",
              "      <td>3</td>\n",
              "      <td>0</td>\n",
              "      <td>0</td>\n",
              "      <td>4</td>\n",
              "      <td>0</td>\n",
              "      <td>4</td>\n",
              "      <td>87</td>\n",
              "      <td>132</td>\n",
              "      <td>242</td>\n",
              "      <td>254</td>\n",
              "      <td>251</td>\n",
              "      <td>253</td>\n",
              "      <td>253</td>\n",
              "      <td>255</td>\n",
              "      <td>254</td>\n",
              "      <td>252</td>\n",
              "      <td>251</td>\n",
              "      <td>253</td>\n",
              "      <td>254</td>\n",
              "      <td>213</td>\n",
              "      <td>96</td>\n",
              "      <td>110</td>\n",
              "      <td>110</td>\n",
              "      <td>34</td>\n",
              "      <td>0</td>\n",
              "      <td>4</td>\n",
              "      <td>1</td>\n",
              "      <td>1</td>\n",
              "      <td>112</td>\n",
              "    </tr>\n",
              "    <tr>\n",
              "      <th>1</th>\n",
              "      <td>0</td>\n",
              "      <td>0</td>\n",
              "      <td>0</td>\n",
              "      <td>1</td>\n",
              "      <td>0</td>\n",
              "      <td>0</td>\n",
              "      <td>2</td>\n",
              "      <td>1</td>\n",
              "      <td>0</td>\n",
              "      <td>1</td>\n",
              "      <td>4</td>\n",
              "      <td>2</td>\n",
              "      <td>0</td>\n",
              "      <td>0</td>\n",
              "      <td>0</td>\n",
              "      <td>0</td>\n",
              "      <td>0</td>\n",
              "      <td>0</td>\n",
              "      <td>0</td>\n",
              "      <td>5</td>\n",
              "      <td>2</td>\n",
              "      <td>1</td>\n",
              "      <td>2</td>\n",
              "      <td>0</td>\n",
              "      <td>0</td>\n",
              "      <td>0</td>\n",
              "      <td>0</td>\n",
              "      <td>0</td>\n",
              "      <td>0</td>\n",
              "      <td>0</td>\n",
              "      <td>1</td>\n",
              "      <td>1</td>\n",
              "      <td>0</td>\n",
              "      <td>2</td>\n",
              "      <td>2</td>\n",
              "      <td>1</td>\n",
              "      <td>3</td>\n",
              "      <td>5</td>\n",
              "      <td>0</td>\n",
              "      <td>0</td>\n",
              "      <td>...</td>\n",
              "      <td>255</td>\n",
              "      <td>255</td>\n",
              "      <td>255</td>\n",
              "      <td>218</td>\n",
              "      <td>179</td>\n",
              "      <td>97</td>\n",
              "      <td>16</td>\n",
              "      <td>0</td>\n",
              "      <td>4</td>\n",
              "      <td>0</td>\n",
              "      <td>0</td>\n",
              "      <td>0</td>\n",
              "      <td>1</td>\n",
              "      <td>0</td>\n",
              "      <td>0</td>\n",
              "      <td>2</td>\n",
              "      <td>2</td>\n",
              "      <td>4</td>\n",
              "      <td>0</td>\n",
              "      <td>0</td>\n",
              "      <td>19</td>\n",
              "      <td>101</td>\n",
              "      <td>198</td>\n",
              "      <td>209</td>\n",
              "      <td>206</td>\n",
              "      <td>207</td>\n",
              "      <td>208</td>\n",
              "      <td>206</td>\n",
              "      <td>205</td>\n",
              "      <td>173</td>\n",
              "      <td>88</td>\n",
              "      <td>42</td>\n",
              "      <td>0</td>\n",
              "      <td>0</td>\n",
              "      <td>0</td>\n",
              "      <td>4</td>\n",
              "      <td>1</td>\n",
              "      <td>0</td>\n",
              "      <td>0</td>\n",
              "      <td>112</td>\n",
              "    </tr>\n",
              "    <tr>\n",
              "      <th>2</th>\n",
              "      <td>1</td>\n",
              "      <td>0</td>\n",
              "      <td>0</td>\n",
              "      <td>0</td>\n",
              "      <td>0</td>\n",
              "      <td>0</td>\n",
              "      <td>0</td>\n",
              "      <td>2</td>\n",
              "      <td>1</td>\n",
              "      <td>1</td>\n",
              "      <td>1</td>\n",
              "      <td>2</td>\n",
              "      <td>3</td>\n",
              "      <td>5</td>\n",
              "      <td>2</td>\n",
              "      <td>6</td>\n",
              "      <td>4</td>\n",
              "      <td>4</td>\n",
              "      <td>4</td>\n",
              "      <td>2</td>\n",
              "      <td>4</td>\n",
              "      <td>4</td>\n",
              "      <td>1</td>\n",
              "      <td>2</td>\n",
              "      <td>1</td>\n",
              "      <td>1</td>\n",
              "      <td>0</td>\n",
              "      <td>0</td>\n",
              "      <td>0</td>\n",
              "      <td>0</td>\n",
              "      <td>0</td>\n",
              "      <td>0</td>\n",
              "      <td>0</td>\n",
              "      <td>0</td>\n",
              "      <td>1</td>\n",
              "      <td>1</td>\n",
              "      <td>1</td>\n",
              "      <td>1</td>\n",
              "      <td>2</td>\n",
              "      <td>2</td>\n",
              "      <td>...</td>\n",
              "      <td>194</td>\n",
              "      <td>221</td>\n",
              "      <td>255</td>\n",
              "      <td>255</td>\n",
              "      <td>221</td>\n",
              "      <td>129</td>\n",
              "      <td>40</td>\n",
              "      <td>0</td>\n",
              "      <td>5</td>\n",
              "      <td>1</td>\n",
              "      <td>2</td>\n",
              "      <td>0</td>\n",
              "      <td>0</td>\n",
              "      <td>1</td>\n",
              "      <td>2</td>\n",
              "      <td>1</td>\n",
              "      <td>2</td>\n",
              "      <td>2</td>\n",
              "      <td>1</td>\n",
              "      <td>0</td>\n",
              "      <td>50</td>\n",
              "      <td>137</td>\n",
              "      <td>131</td>\n",
              "      <td>134</td>\n",
              "      <td>143</td>\n",
              "      <td>238</td>\n",
              "      <td>255</td>\n",
              "      <td>255</td>\n",
              "      <td>255</td>\n",
              "      <td>255</td>\n",
              "      <td>232</td>\n",
              "      <td>160</td>\n",
              "      <td>50</td>\n",
              "      <td>1</td>\n",
              "      <td>0</td>\n",
              "      <td>5</td>\n",
              "      <td>1</td>\n",
              "      <td>1</td>\n",
              "      <td>2</td>\n",
              "      <td>112</td>\n",
              "    </tr>\n",
              "    <tr>\n",
              "      <th>3</th>\n",
              "      <td>2</td>\n",
              "      <td>1</td>\n",
              "      <td>1</td>\n",
              "      <td>0</td>\n",
              "      <td>0</td>\n",
              "      <td>0</td>\n",
              "      <td>1</td>\n",
              "      <td>0</td>\n",
              "      <td>2</td>\n",
              "      <td>1</td>\n",
              "      <td>0</td>\n",
              "      <td>1</td>\n",
              "      <td>0</td>\n",
              "      <td>1</td>\n",
              "      <td>0</td>\n",
              "      <td>3</td>\n",
              "      <td>1</td>\n",
              "      <td>6</td>\n",
              "      <td>5</td>\n",
              "      <td>3</td>\n",
              "      <td>4</td>\n",
              "      <td>2</td>\n",
              "      <td>5</td>\n",
              "      <td>2</td>\n",
              "      <td>1</td>\n",
              "      <td>1</td>\n",
              "      <td>1</td>\n",
              "      <td>1</td>\n",
              "      <td>0</td>\n",
              "      <td>0</td>\n",
              "      <td>0</td>\n",
              "      <td>0</td>\n",
              "      <td>1</td>\n",
              "      <td>1</td>\n",
              "      <td>1</td>\n",
              "      <td>3</td>\n",
              "      <td>1</td>\n",
              "      <td>1</td>\n",
              "      <td>2</td>\n",
              "      <td>2</td>\n",
              "      <td>...</td>\n",
              "      <td>167</td>\n",
              "      <td>58</td>\n",
              "      <td>6</td>\n",
              "      <td>0</td>\n",
              "      <td>4</td>\n",
              "      <td>4</td>\n",
              "      <td>2</td>\n",
              "      <td>1</td>\n",
              "      <td>1</td>\n",
              "      <td>1</td>\n",
              "      <td>0</td>\n",
              "      <td>2</td>\n",
              "      <td>1</td>\n",
              "      <td>5</td>\n",
              "      <td>1</td>\n",
              "      <td>0</td>\n",
              "      <td>83</td>\n",
              "      <td>87</td>\n",
              "      <td>162</td>\n",
              "      <td>253</td>\n",
              "      <td>250</td>\n",
              "      <td>252</td>\n",
              "      <td>252</td>\n",
              "      <td>254</td>\n",
              "      <td>152</td>\n",
              "      <td>92</td>\n",
              "      <td>75</td>\n",
              "      <td>0</td>\n",
              "      <td>0</td>\n",
              "      <td>0</td>\n",
              "      <td>0</td>\n",
              "      <td>6</td>\n",
              "      <td>3</td>\n",
              "      <td>0</td>\n",
              "      <td>0</td>\n",
              "      <td>1</td>\n",
              "      <td>0</td>\n",
              "      <td>0</td>\n",
              "      <td>2</td>\n",
              "      <td>112</td>\n",
              "    </tr>\n",
              "    <tr>\n",
              "      <th>4</th>\n",
              "      <td>0</td>\n",
              "      <td>0</td>\n",
              "      <td>0</td>\n",
              "      <td>0</td>\n",
              "      <td>0</td>\n",
              "      <td>0</td>\n",
              "      <td>0</td>\n",
              "      <td>0</td>\n",
              "      <td>0</td>\n",
              "      <td>0</td>\n",
              "      <td>0</td>\n",
              "      <td>0</td>\n",
              "      <td>0</td>\n",
              "      <td>1</td>\n",
              "      <td>2</td>\n",
              "      <td>3</td>\n",
              "      <td>3</td>\n",
              "      <td>5</td>\n",
              "      <td>6</td>\n",
              "      <td>3</td>\n",
              "      <td>1</td>\n",
              "      <td>0</td>\n",
              "      <td>0</td>\n",
              "      <td>5</td>\n",
              "      <td>2</td>\n",
              "      <td>2</td>\n",
              "      <td>2</td>\n",
              "      <td>1</td>\n",
              "      <td>0</td>\n",
              "      <td>0</td>\n",
              "      <td>0</td>\n",
              "      <td>0</td>\n",
              "      <td>0</td>\n",
              "      <td>0</td>\n",
              "      <td>0</td>\n",
              "      <td>0</td>\n",
              "      <td>0</td>\n",
              "      <td>0</td>\n",
              "      <td>0</td>\n",
              "      <td>0</td>\n",
              "      <td>...</td>\n",
              "      <td>2</td>\n",
              "      <td>2</td>\n",
              "      <td>1</td>\n",
              "      <td>1</td>\n",
              "      <td>0</td>\n",
              "      <td>1</td>\n",
              "      <td>0</td>\n",
              "      <td>0</td>\n",
              "      <td>0</td>\n",
              "      <td>0</td>\n",
              "      <td>0</td>\n",
              "      <td>0</td>\n",
              "      <td>1</td>\n",
              "      <td>1</td>\n",
              "      <td>0</td>\n",
              "      <td>36</td>\n",
              "      <td>164</td>\n",
              "      <td>141</td>\n",
              "      <td>42</td>\n",
              "      <td>53</td>\n",
              "      <td>7</td>\n",
              "      <td>1</td>\n",
              "      <td>0</td>\n",
              "      <td>0</td>\n",
              "      <td>4</td>\n",
              "      <td>3</td>\n",
              "      <td>2</td>\n",
              "      <td>1</td>\n",
              "      <td>1</td>\n",
              "      <td>1</td>\n",
              "      <td>0</td>\n",
              "      <td>0</td>\n",
              "      <td>0</td>\n",
              "      <td>0</td>\n",
              "      <td>0</td>\n",
              "      <td>0</td>\n",
              "      <td>0</td>\n",
              "      <td>0</td>\n",
              "      <td>0</td>\n",
              "      <td>112</td>\n",
              "    </tr>\n",
              "  </tbody>\n",
              "</table>\n",
              "<p>5 rows × 785 columns</p>\n",
              "</div>"
            ],
            "text/plain": [
              "   pixel0  pixel1  pixel2  pixel3  ...  pixel781  pixel782  pixel783  label\n",
              "0       0       2       0       1  ...         4         1         1    112\n",
              "1       0       0       0       1  ...         1         0         0    112\n",
              "2       1       0       0       0  ...         1         1         2    112\n",
              "3       2       1       1       0  ...         0         0         2    112\n",
              "4       0       0       0       0  ...         0         0         0    112\n",
              "\n",
              "[5 rows x 785 columns]"
            ]
          },
          "metadata": {
            "tags": []
          },
          "execution_count": 7
        }
      ]
    },
    {
      "cell_type": "code",
      "metadata": {
        "colab": {
          "base_uri": "https://localhost:8080/",
          "height": 253
        },
        "id": "E9RBomWHsS2U",
        "outputId": "79f345e0-af2d-4750-95d0-7a9cee31287e"
      },
      "source": [
        "df_female.head()"
      ],
      "execution_count": 8,
      "outputs": [
        {
          "output_type": "execute_result",
          "data": {
            "text/html": [
              "<div>\n",
              "<style scoped>\n",
              "    .dataframe tbody tr th:only-of-type {\n",
              "        vertical-align: middle;\n",
              "    }\n",
              "\n",
              "    .dataframe tbody tr th {\n",
              "        vertical-align: top;\n",
              "    }\n",
              "\n",
              "    .dataframe thead th {\n",
              "        text-align: right;\n",
              "    }\n",
              "</style>\n",
              "<table border=\"1\" class=\"dataframe\">\n",
              "  <thead>\n",
              "    <tr style=\"text-align: right;\">\n",
              "      <th></th>\n",
              "      <th>pixel0</th>\n",
              "      <th>pixel1</th>\n",
              "      <th>pixel2</th>\n",
              "      <th>pixel3</th>\n",
              "      <th>pixel4</th>\n",
              "      <th>pixel5</th>\n",
              "      <th>pixel6</th>\n",
              "      <th>pixel7</th>\n",
              "      <th>pixel8</th>\n",
              "      <th>pixel9</th>\n",
              "      <th>pixel10</th>\n",
              "      <th>pixel11</th>\n",
              "      <th>pixel12</th>\n",
              "      <th>pixel13</th>\n",
              "      <th>pixel14</th>\n",
              "      <th>pixel15</th>\n",
              "      <th>pixel16</th>\n",
              "      <th>pixel17</th>\n",
              "      <th>pixel18</th>\n",
              "      <th>pixel19</th>\n",
              "      <th>pixel20</th>\n",
              "      <th>pixel21</th>\n",
              "      <th>pixel22</th>\n",
              "      <th>pixel23</th>\n",
              "      <th>pixel24</th>\n",
              "      <th>pixel25</th>\n",
              "      <th>pixel26</th>\n",
              "      <th>pixel27</th>\n",
              "      <th>pixel28</th>\n",
              "      <th>pixel29</th>\n",
              "      <th>pixel30</th>\n",
              "      <th>pixel31</th>\n",
              "      <th>pixel32</th>\n",
              "      <th>pixel33</th>\n",
              "      <th>pixel34</th>\n",
              "      <th>pixel35</th>\n",
              "      <th>pixel36</th>\n",
              "      <th>pixel37</th>\n",
              "      <th>pixel38</th>\n",
              "      <th>pixel39</th>\n",
              "      <th>...</th>\n",
              "      <th>pixel745</th>\n",
              "      <th>pixel746</th>\n",
              "      <th>pixel747</th>\n",
              "      <th>pixel748</th>\n",
              "      <th>pixel749</th>\n",
              "      <th>pixel750</th>\n",
              "      <th>pixel751</th>\n",
              "      <th>pixel752</th>\n",
              "      <th>pixel753</th>\n",
              "      <th>pixel754</th>\n",
              "      <th>pixel755</th>\n",
              "      <th>pixel756</th>\n",
              "      <th>pixel757</th>\n",
              "      <th>pixel758</th>\n",
              "      <th>pixel759</th>\n",
              "      <th>pixel760</th>\n",
              "      <th>pixel761</th>\n",
              "      <th>pixel762</th>\n",
              "      <th>pixel763</th>\n",
              "      <th>pixel764</th>\n",
              "      <th>pixel765</th>\n",
              "      <th>pixel766</th>\n",
              "      <th>pixel767</th>\n",
              "      <th>pixel768</th>\n",
              "      <th>pixel769</th>\n",
              "      <th>pixel770</th>\n",
              "      <th>pixel771</th>\n",
              "      <th>pixel772</th>\n",
              "      <th>pixel773</th>\n",
              "      <th>pixel774</th>\n",
              "      <th>pixel775</th>\n",
              "      <th>pixel776</th>\n",
              "      <th>pixel777</th>\n",
              "      <th>pixel778</th>\n",
              "      <th>pixel779</th>\n",
              "      <th>pixel780</th>\n",
              "      <th>pixel781</th>\n",
              "      <th>pixel782</th>\n",
              "      <th>pixel783</th>\n",
              "      <th>label</th>\n",
              "    </tr>\n",
              "  </thead>\n",
              "  <tbody>\n",
              "    <tr>\n",
              "      <th>0</th>\n",
              "      <td>0</td>\n",
              "      <td>0</td>\n",
              "      <td>0</td>\n",
              "      <td>0</td>\n",
              "      <td>1</td>\n",
              "      <td>0</td>\n",
              "      <td>1</td>\n",
              "      <td>0</td>\n",
              "      <td>2</td>\n",
              "      <td>4</td>\n",
              "      <td>5</td>\n",
              "      <td>0</td>\n",
              "      <td>0</td>\n",
              "      <td>0</td>\n",
              "      <td>0</td>\n",
              "      <td>0</td>\n",
              "      <td>0</td>\n",
              "      <td>0</td>\n",
              "      <td>0</td>\n",
              "      <td>0</td>\n",
              "      <td>1</td>\n",
              "      <td>1</td>\n",
              "      <td>3</td>\n",
              "      <td>1</td>\n",
              "      <td>0</td>\n",
              "      <td>1</td>\n",
              "      <td>0</td>\n",
              "      <td>0</td>\n",
              "      <td>0</td>\n",
              "      <td>0</td>\n",
              "      <td>0</td>\n",
              "      <td>1</td>\n",
              "      <td>2</td>\n",
              "      <td>2</td>\n",
              "      <td>2</td>\n",
              "      <td>5</td>\n",
              "      <td>1</td>\n",
              "      <td>0</td>\n",
              "      <td>0</td>\n",
              "      <td>33</td>\n",
              "      <td>...</td>\n",
              "      <td>255</td>\n",
              "      <td>255</td>\n",
              "      <td>255</td>\n",
              "      <td>253</td>\n",
              "      <td>253</td>\n",
              "      <td>255</td>\n",
              "      <td>255</td>\n",
              "      <td>236</td>\n",
              "      <td>96</td>\n",
              "      <td>5</td>\n",
              "      <td>1</td>\n",
              "      <td>0</td>\n",
              "      <td>0</td>\n",
              "      <td>0</td>\n",
              "      <td>0</td>\n",
              "      <td>0</td>\n",
              "      <td>1</td>\n",
              "      <td>1</td>\n",
              "      <td>0</td>\n",
              "      <td>0</td>\n",
              "      <td>0</td>\n",
              "      <td>0</td>\n",
              "      <td>1</td>\n",
              "      <td>2</td>\n",
              "      <td>4</td>\n",
              "      <td>0</td>\n",
              "      <td>0</td>\n",
              "      <td>1</td>\n",
              "      <td>77</td>\n",
              "      <td>158</td>\n",
              "      <td>184</td>\n",
              "      <td>252</td>\n",
              "      <td>254</td>\n",
              "      <td>186</td>\n",
              "      <td>155</td>\n",
              "      <td>60</td>\n",
              "      <td>0</td>\n",
              "      <td>3</td>\n",
              "      <td>1</td>\n",
              "      <td>112</td>\n",
              "    </tr>\n",
              "    <tr>\n",
              "      <th>1</th>\n",
              "      <td>0</td>\n",
              "      <td>0</td>\n",
              "      <td>0</td>\n",
              "      <td>0</td>\n",
              "      <td>0</td>\n",
              "      <td>1</td>\n",
              "      <td>1</td>\n",
              "      <td>4</td>\n",
              "      <td>5</td>\n",
              "      <td>0</td>\n",
              "      <td>0</td>\n",
              "      <td>0</td>\n",
              "      <td>7</td>\n",
              "      <td>4</td>\n",
              "      <td>5</td>\n",
              "      <td>4</td>\n",
              "      <td>6</td>\n",
              "      <td>7</td>\n",
              "      <td>5</td>\n",
              "      <td>5</td>\n",
              "      <td>6</td>\n",
              "      <td>3</td>\n",
              "      <td>3</td>\n",
              "      <td>1</td>\n",
              "      <td>1</td>\n",
              "      <td>0</td>\n",
              "      <td>0</td>\n",
              "      <td>0</td>\n",
              "      <td>0</td>\n",
              "      <td>1</td>\n",
              "      <td>0</td>\n",
              "      <td>0</td>\n",
              "      <td>0</td>\n",
              "      <td>0</td>\n",
              "      <td>3</td>\n",
              "      <td>0</td>\n",
              "      <td>0</td>\n",
              "      <td>59</td>\n",
              "      <td>70</td>\n",
              "      <td>33</td>\n",
              "      <td>...</td>\n",
              "      <td>255</td>\n",
              "      <td>240</td>\n",
              "      <td>221</td>\n",
              "      <td>152</td>\n",
              "      <td>66</td>\n",
              "      <td>0</td>\n",
              "      <td>3</td>\n",
              "      <td>3</td>\n",
              "      <td>1</td>\n",
              "      <td>0</td>\n",
              "      <td>1</td>\n",
              "      <td>0</td>\n",
              "      <td>0</td>\n",
              "      <td>0</td>\n",
              "      <td>0</td>\n",
              "      <td>0</td>\n",
              "      <td>3</td>\n",
              "      <td>2</td>\n",
              "      <td>2</td>\n",
              "      <td>5</td>\n",
              "      <td>0</td>\n",
              "      <td>0</td>\n",
              "      <td>23</td>\n",
              "      <td>113</td>\n",
              "      <td>149</td>\n",
              "      <td>243</td>\n",
              "      <td>250</td>\n",
              "      <td>189</td>\n",
              "      <td>129</td>\n",
              "      <td>71</td>\n",
              "      <td>15</td>\n",
              "      <td>0</td>\n",
              "      <td>0</td>\n",
              "      <td>4</td>\n",
              "      <td>4</td>\n",
              "      <td>2</td>\n",
              "      <td>1</td>\n",
              "      <td>1</td>\n",
              "      <td>1</td>\n",
              "      <td>112</td>\n",
              "    </tr>\n",
              "    <tr>\n",
              "      <th>2</th>\n",
              "      <td>0</td>\n",
              "      <td>0</td>\n",
              "      <td>1</td>\n",
              "      <td>0</td>\n",
              "      <td>1</td>\n",
              "      <td>0</td>\n",
              "      <td>1</td>\n",
              "      <td>0</td>\n",
              "      <td>1</td>\n",
              "      <td>1</td>\n",
              "      <td>3</td>\n",
              "      <td>3</td>\n",
              "      <td>0</td>\n",
              "      <td>0</td>\n",
              "      <td>5</td>\n",
              "      <td>4</td>\n",
              "      <td>4</td>\n",
              "      <td>6</td>\n",
              "      <td>0</td>\n",
              "      <td>0</td>\n",
              "      <td>6</td>\n",
              "      <td>1</td>\n",
              "      <td>1</td>\n",
              "      <td>1</td>\n",
              "      <td>0</td>\n",
              "      <td>1</td>\n",
              "      <td>0</td>\n",
              "      <td>0</td>\n",
              "      <td>0</td>\n",
              "      <td>0</td>\n",
              "      <td>0</td>\n",
              "      <td>0</td>\n",
              "      <td>1</td>\n",
              "      <td>1</td>\n",
              "      <td>1</td>\n",
              "      <td>2</td>\n",
              "      <td>6</td>\n",
              "      <td>2</td>\n",
              "      <td>0</td>\n",
              "      <td>0</td>\n",
              "      <td>...</td>\n",
              "      <td>255</td>\n",
              "      <td>255</td>\n",
              "      <td>217</td>\n",
              "      <td>161</td>\n",
              "      <td>91</td>\n",
              "      <td>27</td>\n",
              "      <td>0</td>\n",
              "      <td>5</td>\n",
              "      <td>1</td>\n",
              "      <td>1</td>\n",
              "      <td>0</td>\n",
              "      <td>0</td>\n",
              "      <td>0</td>\n",
              "      <td>0</td>\n",
              "      <td>1</td>\n",
              "      <td>1</td>\n",
              "      <td>3</td>\n",
              "      <td>4</td>\n",
              "      <td>0</td>\n",
              "      <td>11</td>\n",
              "      <td>81</td>\n",
              "      <td>190</td>\n",
              "      <td>223</td>\n",
              "      <td>249</td>\n",
              "      <td>250</td>\n",
              "      <td>247</td>\n",
              "      <td>205</td>\n",
              "      <td>200</td>\n",
              "      <td>179</td>\n",
              "      <td>88</td>\n",
              "      <td>30</td>\n",
              "      <td>0</td>\n",
              "      <td>0</td>\n",
              "      <td>0</td>\n",
              "      <td>5</td>\n",
              "      <td>1</td>\n",
              "      <td>0</td>\n",
              "      <td>0</td>\n",
              "      <td>0</td>\n",
              "      <td>112</td>\n",
              "    </tr>\n",
              "    <tr>\n",
              "      <th>3</th>\n",
              "      <td>0</td>\n",
              "      <td>0</td>\n",
              "      <td>0</td>\n",
              "      <td>0</td>\n",
              "      <td>1</td>\n",
              "      <td>0</td>\n",
              "      <td>0</td>\n",
              "      <td>0</td>\n",
              "      <td>1</td>\n",
              "      <td>2</td>\n",
              "      <td>2</td>\n",
              "      <td>4</td>\n",
              "      <td>6</td>\n",
              "      <td>0</td>\n",
              "      <td>0</td>\n",
              "      <td>13</td>\n",
              "      <td>15</td>\n",
              "      <td>18</td>\n",
              "      <td>7</td>\n",
              "      <td>0</td>\n",
              "      <td>5</td>\n",
              "      <td>2</td>\n",
              "      <td>1</td>\n",
              "      <td>1</td>\n",
              "      <td>0</td>\n",
              "      <td>0</td>\n",
              "      <td>0</td>\n",
              "      <td>0</td>\n",
              "      <td>0</td>\n",
              "      <td>0</td>\n",
              "      <td>0</td>\n",
              "      <td>0</td>\n",
              "      <td>0</td>\n",
              "      <td>0</td>\n",
              "      <td>0</td>\n",
              "      <td>0</td>\n",
              "      <td>0</td>\n",
              "      <td>2</td>\n",
              "      <td>6</td>\n",
              "      <td>3</td>\n",
              "      <td>...</td>\n",
              "      <td>36</td>\n",
              "      <td>14</td>\n",
              "      <td>0</td>\n",
              "      <td>0</td>\n",
              "      <td>3</td>\n",
              "      <td>2</td>\n",
              "      <td>1</td>\n",
              "      <td>0</td>\n",
              "      <td>1</td>\n",
              "      <td>0</td>\n",
              "      <td>0</td>\n",
              "      <td>0</td>\n",
              "      <td>0</td>\n",
              "      <td>1</td>\n",
              "      <td>5</td>\n",
              "      <td>0</td>\n",
              "      <td>19</td>\n",
              "      <td>102</td>\n",
              "      <td>186</td>\n",
              "      <td>241</td>\n",
              "      <td>239</td>\n",
              "      <td>199</td>\n",
              "      <td>196</td>\n",
              "      <td>117</td>\n",
              "      <td>60</td>\n",
              "      <td>17</td>\n",
              "      <td>0</td>\n",
              "      <td>0</td>\n",
              "      <td>0</td>\n",
              "      <td>0</td>\n",
              "      <td>4</td>\n",
              "      <td>2</td>\n",
              "      <td>0</td>\n",
              "      <td>0</td>\n",
              "      <td>1</td>\n",
              "      <td>0</td>\n",
              "      <td>0</td>\n",
              "      <td>0</td>\n",
              "      <td>0</td>\n",
              "      <td>112</td>\n",
              "    </tr>\n",
              "    <tr>\n",
              "      <th>4</th>\n",
              "      <td>2</td>\n",
              "      <td>3</td>\n",
              "      <td>12</td>\n",
              "      <td>5</td>\n",
              "      <td>14</td>\n",
              "      <td>16</td>\n",
              "      <td>15</td>\n",
              "      <td>16</td>\n",
              "      <td>5</td>\n",
              "      <td>12</td>\n",
              "      <td>3</td>\n",
              "      <td>3</td>\n",
              "      <td>24</td>\n",
              "      <td>12</td>\n",
              "      <td>10</td>\n",
              "      <td>8</td>\n",
              "      <td>11</td>\n",
              "      <td>8</td>\n",
              "      <td>12</td>\n",
              "      <td>5</td>\n",
              "      <td>19</td>\n",
              "      <td>20</td>\n",
              "      <td>1</td>\n",
              "      <td>3</td>\n",
              "      <td>17</td>\n",
              "      <td>2</td>\n",
              "      <td>11</td>\n",
              "      <td>13</td>\n",
              "      <td>2</td>\n",
              "      <td>2</td>\n",
              "      <td>0</td>\n",
              "      <td>2</td>\n",
              "      <td>0</td>\n",
              "      <td>0</td>\n",
              "      <td>0</td>\n",
              "      <td>0</td>\n",
              "      <td>1</td>\n",
              "      <td>0</td>\n",
              "      <td>1</td>\n",
              "      <td>2</td>\n",
              "      <td>...</td>\n",
              "      <td>235</td>\n",
              "      <td>157</td>\n",
              "      <td>91</td>\n",
              "      <td>26</td>\n",
              "      <td>0</td>\n",
              "      <td>0</td>\n",
              "      <td>5</td>\n",
              "      <td>2</td>\n",
              "      <td>1</td>\n",
              "      <td>0</td>\n",
              "      <td>0</td>\n",
              "      <td>0</td>\n",
              "      <td>1</td>\n",
              "      <td>0</td>\n",
              "      <td>1</td>\n",
              "      <td>4</td>\n",
              "      <td>3</td>\n",
              "      <td>0</td>\n",
              "      <td>1</td>\n",
              "      <td>37</td>\n",
              "      <td>96</td>\n",
              "      <td>135</td>\n",
              "      <td>178</td>\n",
              "      <td>214</td>\n",
              "      <td>196</td>\n",
              "      <td>145</td>\n",
              "      <td>98</td>\n",
              "      <td>35</td>\n",
              "      <td>11</td>\n",
              "      <td>0</td>\n",
              "      <td>0</td>\n",
              "      <td>0</td>\n",
              "      <td>2</td>\n",
              "      <td>3</td>\n",
              "      <td>0</td>\n",
              "      <td>0</td>\n",
              "      <td>0</td>\n",
              "      <td>0</td>\n",
              "      <td>0</td>\n",
              "      <td>112</td>\n",
              "    </tr>\n",
              "  </tbody>\n",
              "</table>\n",
              "<p>5 rows × 785 columns</p>\n",
              "</div>"
            ],
            "text/plain": [
              "   pixel0  pixel1  pixel2  pixel3  ...  pixel781  pixel782  pixel783  label\n",
              "0       0       0       0       0  ...         0         3         1    112\n",
              "1       0       0       0       0  ...         1         1         1    112\n",
              "2       0       0       1       0  ...         0         0         0    112\n",
              "3       0       0       0       0  ...         0         0         0    112\n",
              "4       2       3      12       5  ...         0         0         0    112\n",
              "\n",
              "[5 rows x 785 columns]"
            ]
          },
          "metadata": {
            "tags": []
          },
          "execution_count": 8
        }
      ]
    },
    {
      "cell_type": "code",
      "metadata": {
        "id": "NCtO9KxTsVSn"
      },
      "source": [
        "df=pd.concat([df_male,df_female],axis=0)"
      ],
      "execution_count": 9,
      "outputs": []
    },
    {
      "cell_type": "code",
      "metadata": {
        "colab": {
          "base_uri": "https://localhost:8080/",
          "height": 253
        },
        "id": "NAmf_5t4srgn",
        "outputId": "32247755-86a4-458c-ae8b-3c8870258e1a"
      },
      "source": [
        "df.head()"
      ],
      "execution_count": 10,
      "outputs": [
        {
          "output_type": "execute_result",
          "data": {
            "text/html": [
              "<div>\n",
              "<style scoped>\n",
              "    .dataframe tbody tr th:only-of-type {\n",
              "        vertical-align: middle;\n",
              "    }\n",
              "\n",
              "    .dataframe tbody tr th {\n",
              "        vertical-align: top;\n",
              "    }\n",
              "\n",
              "    .dataframe thead th {\n",
              "        text-align: right;\n",
              "    }\n",
              "</style>\n",
              "<table border=\"1\" class=\"dataframe\">\n",
              "  <thead>\n",
              "    <tr style=\"text-align: right;\">\n",
              "      <th></th>\n",
              "      <th>pixel0</th>\n",
              "      <th>pixel1</th>\n",
              "      <th>pixel2</th>\n",
              "      <th>pixel3</th>\n",
              "      <th>pixel4</th>\n",
              "      <th>pixel5</th>\n",
              "      <th>pixel6</th>\n",
              "      <th>pixel7</th>\n",
              "      <th>pixel8</th>\n",
              "      <th>pixel9</th>\n",
              "      <th>pixel10</th>\n",
              "      <th>pixel11</th>\n",
              "      <th>pixel12</th>\n",
              "      <th>pixel13</th>\n",
              "      <th>pixel14</th>\n",
              "      <th>pixel15</th>\n",
              "      <th>pixel16</th>\n",
              "      <th>pixel17</th>\n",
              "      <th>pixel18</th>\n",
              "      <th>pixel19</th>\n",
              "      <th>pixel20</th>\n",
              "      <th>pixel21</th>\n",
              "      <th>pixel22</th>\n",
              "      <th>pixel23</th>\n",
              "      <th>pixel24</th>\n",
              "      <th>pixel25</th>\n",
              "      <th>pixel26</th>\n",
              "      <th>pixel27</th>\n",
              "      <th>pixel28</th>\n",
              "      <th>pixel29</th>\n",
              "      <th>pixel30</th>\n",
              "      <th>pixel31</th>\n",
              "      <th>pixel32</th>\n",
              "      <th>pixel33</th>\n",
              "      <th>pixel34</th>\n",
              "      <th>pixel35</th>\n",
              "      <th>pixel36</th>\n",
              "      <th>pixel37</th>\n",
              "      <th>pixel38</th>\n",
              "      <th>pixel39</th>\n",
              "      <th>...</th>\n",
              "      <th>pixel745</th>\n",
              "      <th>pixel746</th>\n",
              "      <th>pixel747</th>\n",
              "      <th>pixel748</th>\n",
              "      <th>pixel749</th>\n",
              "      <th>pixel750</th>\n",
              "      <th>pixel751</th>\n",
              "      <th>pixel752</th>\n",
              "      <th>pixel753</th>\n",
              "      <th>pixel754</th>\n",
              "      <th>pixel755</th>\n",
              "      <th>pixel756</th>\n",
              "      <th>pixel757</th>\n",
              "      <th>pixel758</th>\n",
              "      <th>pixel759</th>\n",
              "      <th>pixel760</th>\n",
              "      <th>pixel761</th>\n",
              "      <th>pixel762</th>\n",
              "      <th>pixel763</th>\n",
              "      <th>pixel764</th>\n",
              "      <th>pixel765</th>\n",
              "      <th>pixel766</th>\n",
              "      <th>pixel767</th>\n",
              "      <th>pixel768</th>\n",
              "      <th>pixel769</th>\n",
              "      <th>pixel770</th>\n",
              "      <th>pixel771</th>\n",
              "      <th>pixel772</th>\n",
              "      <th>pixel773</th>\n",
              "      <th>pixel774</th>\n",
              "      <th>pixel775</th>\n",
              "      <th>pixel776</th>\n",
              "      <th>pixel777</th>\n",
              "      <th>pixel778</th>\n",
              "      <th>pixel779</th>\n",
              "      <th>pixel780</th>\n",
              "      <th>pixel781</th>\n",
              "      <th>pixel782</th>\n",
              "      <th>pixel783</th>\n",
              "      <th>label</th>\n",
              "    </tr>\n",
              "  </thead>\n",
              "  <tbody>\n",
              "    <tr>\n",
              "      <th>0</th>\n",
              "      <td>0</td>\n",
              "      <td>2</td>\n",
              "      <td>0</td>\n",
              "      <td>1</td>\n",
              "      <td>1</td>\n",
              "      <td>1</td>\n",
              "      <td>1</td>\n",
              "      <td>0</td>\n",
              "      <td>2</td>\n",
              "      <td>3</td>\n",
              "      <td>0</td>\n",
              "      <td>0</td>\n",
              "      <td>3</td>\n",
              "      <td>0</td>\n",
              "      <td>1</td>\n",
              "      <td>1</td>\n",
              "      <td>5</td>\n",
              "      <td>3</td>\n",
              "      <td>3</td>\n",
              "      <td>2</td>\n",
              "      <td>0</td>\n",
              "      <td>0</td>\n",
              "      <td>0</td>\n",
              "      <td>1</td>\n",
              "      <td>0</td>\n",
              "      <td>2</td>\n",
              "      <td>1</td>\n",
              "      <td>1</td>\n",
              "      <td>0</td>\n",
              "      <td>0</td>\n",
              "      <td>0</td>\n",
              "      <td>1</td>\n",
              "      <td>0</td>\n",
              "      <td>0</td>\n",
              "      <td>1</td>\n",
              "      <td>4</td>\n",
              "      <td>3</td>\n",
              "      <td>5</td>\n",
              "      <td>3</td>\n",
              "      <td>4</td>\n",
              "      <td>...</td>\n",
              "      <td>252</td>\n",
              "      <td>251</td>\n",
              "      <td>255</td>\n",
              "      <td>255</td>\n",
              "      <td>255</td>\n",
              "      <td>255</td>\n",
              "      <td>210</td>\n",
              "      <td>162</td>\n",
              "      <td>39</td>\n",
              "      <td>1</td>\n",
              "      <td>2</td>\n",
              "      <td>3</td>\n",
              "      <td>0</td>\n",
              "      <td>0</td>\n",
              "      <td>4</td>\n",
              "      <td>0</td>\n",
              "      <td>4</td>\n",
              "      <td>87</td>\n",
              "      <td>132</td>\n",
              "      <td>242</td>\n",
              "      <td>254</td>\n",
              "      <td>251</td>\n",
              "      <td>253</td>\n",
              "      <td>253</td>\n",
              "      <td>255</td>\n",
              "      <td>254</td>\n",
              "      <td>252</td>\n",
              "      <td>251</td>\n",
              "      <td>253</td>\n",
              "      <td>254</td>\n",
              "      <td>213</td>\n",
              "      <td>96</td>\n",
              "      <td>110</td>\n",
              "      <td>110</td>\n",
              "      <td>34</td>\n",
              "      <td>0</td>\n",
              "      <td>4</td>\n",
              "      <td>1</td>\n",
              "      <td>1</td>\n",
              "      <td>112</td>\n",
              "    </tr>\n",
              "    <tr>\n",
              "      <th>1</th>\n",
              "      <td>0</td>\n",
              "      <td>0</td>\n",
              "      <td>0</td>\n",
              "      <td>1</td>\n",
              "      <td>0</td>\n",
              "      <td>0</td>\n",
              "      <td>2</td>\n",
              "      <td>1</td>\n",
              "      <td>0</td>\n",
              "      <td>1</td>\n",
              "      <td>4</td>\n",
              "      <td>2</td>\n",
              "      <td>0</td>\n",
              "      <td>0</td>\n",
              "      <td>0</td>\n",
              "      <td>0</td>\n",
              "      <td>0</td>\n",
              "      <td>0</td>\n",
              "      <td>0</td>\n",
              "      <td>5</td>\n",
              "      <td>2</td>\n",
              "      <td>1</td>\n",
              "      <td>2</td>\n",
              "      <td>0</td>\n",
              "      <td>0</td>\n",
              "      <td>0</td>\n",
              "      <td>0</td>\n",
              "      <td>0</td>\n",
              "      <td>0</td>\n",
              "      <td>0</td>\n",
              "      <td>1</td>\n",
              "      <td>1</td>\n",
              "      <td>0</td>\n",
              "      <td>2</td>\n",
              "      <td>2</td>\n",
              "      <td>1</td>\n",
              "      <td>3</td>\n",
              "      <td>5</td>\n",
              "      <td>0</td>\n",
              "      <td>0</td>\n",
              "      <td>...</td>\n",
              "      <td>255</td>\n",
              "      <td>255</td>\n",
              "      <td>255</td>\n",
              "      <td>218</td>\n",
              "      <td>179</td>\n",
              "      <td>97</td>\n",
              "      <td>16</td>\n",
              "      <td>0</td>\n",
              "      <td>4</td>\n",
              "      <td>0</td>\n",
              "      <td>0</td>\n",
              "      <td>0</td>\n",
              "      <td>1</td>\n",
              "      <td>0</td>\n",
              "      <td>0</td>\n",
              "      <td>2</td>\n",
              "      <td>2</td>\n",
              "      <td>4</td>\n",
              "      <td>0</td>\n",
              "      <td>0</td>\n",
              "      <td>19</td>\n",
              "      <td>101</td>\n",
              "      <td>198</td>\n",
              "      <td>209</td>\n",
              "      <td>206</td>\n",
              "      <td>207</td>\n",
              "      <td>208</td>\n",
              "      <td>206</td>\n",
              "      <td>205</td>\n",
              "      <td>173</td>\n",
              "      <td>88</td>\n",
              "      <td>42</td>\n",
              "      <td>0</td>\n",
              "      <td>0</td>\n",
              "      <td>0</td>\n",
              "      <td>4</td>\n",
              "      <td>1</td>\n",
              "      <td>0</td>\n",
              "      <td>0</td>\n",
              "      <td>112</td>\n",
              "    </tr>\n",
              "    <tr>\n",
              "      <th>2</th>\n",
              "      <td>1</td>\n",
              "      <td>0</td>\n",
              "      <td>0</td>\n",
              "      <td>0</td>\n",
              "      <td>0</td>\n",
              "      <td>0</td>\n",
              "      <td>0</td>\n",
              "      <td>2</td>\n",
              "      <td>1</td>\n",
              "      <td>1</td>\n",
              "      <td>1</td>\n",
              "      <td>2</td>\n",
              "      <td>3</td>\n",
              "      <td>5</td>\n",
              "      <td>2</td>\n",
              "      <td>6</td>\n",
              "      <td>4</td>\n",
              "      <td>4</td>\n",
              "      <td>4</td>\n",
              "      <td>2</td>\n",
              "      <td>4</td>\n",
              "      <td>4</td>\n",
              "      <td>1</td>\n",
              "      <td>2</td>\n",
              "      <td>1</td>\n",
              "      <td>1</td>\n",
              "      <td>0</td>\n",
              "      <td>0</td>\n",
              "      <td>0</td>\n",
              "      <td>0</td>\n",
              "      <td>0</td>\n",
              "      <td>0</td>\n",
              "      <td>0</td>\n",
              "      <td>0</td>\n",
              "      <td>1</td>\n",
              "      <td>1</td>\n",
              "      <td>1</td>\n",
              "      <td>1</td>\n",
              "      <td>2</td>\n",
              "      <td>2</td>\n",
              "      <td>...</td>\n",
              "      <td>194</td>\n",
              "      <td>221</td>\n",
              "      <td>255</td>\n",
              "      <td>255</td>\n",
              "      <td>221</td>\n",
              "      <td>129</td>\n",
              "      <td>40</td>\n",
              "      <td>0</td>\n",
              "      <td>5</td>\n",
              "      <td>1</td>\n",
              "      <td>2</td>\n",
              "      <td>0</td>\n",
              "      <td>0</td>\n",
              "      <td>1</td>\n",
              "      <td>2</td>\n",
              "      <td>1</td>\n",
              "      <td>2</td>\n",
              "      <td>2</td>\n",
              "      <td>1</td>\n",
              "      <td>0</td>\n",
              "      <td>50</td>\n",
              "      <td>137</td>\n",
              "      <td>131</td>\n",
              "      <td>134</td>\n",
              "      <td>143</td>\n",
              "      <td>238</td>\n",
              "      <td>255</td>\n",
              "      <td>255</td>\n",
              "      <td>255</td>\n",
              "      <td>255</td>\n",
              "      <td>232</td>\n",
              "      <td>160</td>\n",
              "      <td>50</td>\n",
              "      <td>1</td>\n",
              "      <td>0</td>\n",
              "      <td>5</td>\n",
              "      <td>1</td>\n",
              "      <td>1</td>\n",
              "      <td>2</td>\n",
              "      <td>112</td>\n",
              "    </tr>\n",
              "    <tr>\n",
              "      <th>3</th>\n",
              "      <td>2</td>\n",
              "      <td>1</td>\n",
              "      <td>1</td>\n",
              "      <td>0</td>\n",
              "      <td>0</td>\n",
              "      <td>0</td>\n",
              "      <td>1</td>\n",
              "      <td>0</td>\n",
              "      <td>2</td>\n",
              "      <td>1</td>\n",
              "      <td>0</td>\n",
              "      <td>1</td>\n",
              "      <td>0</td>\n",
              "      <td>1</td>\n",
              "      <td>0</td>\n",
              "      <td>3</td>\n",
              "      <td>1</td>\n",
              "      <td>6</td>\n",
              "      <td>5</td>\n",
              "      <td>3</td>\n",
              "      <td>4</td>\n",
              "      <td>2</td>\n",
              "      <td>5</td>\n",
              "      <td>2</td>\n",
              "      <td>1</td>\n",
              "      <td>1</td>\n",
              "      <td>1</td>\n",
              "      <td>1</td>\n",
              "      <td>0</td>\n",
              "      <td>0</td>\n",
              "      <td>0</td>\n",
              "      <td>0</td>\n",
              "      <td>1</td>\n",
              "      <td>1</td>\n",
              "      <td>1</td>\n",
              "      <td>3</td>\n",
              "      <td>1</td>\n",
              "      <td>1</td>\n",
              "      <td>2</td>\n",
              "      <td>2</td>\n",
              "      <td>...</td>\n",
              "      <td>167</td>\n",
              "      <td>58</td>\n",
              "      <td>6</td>\n",
              "      <td>0</td>\n",
              "      <td>4</td>\n",
              "      <td>4</td>\n",
              "      <td>2</td>\n",
              "      <td>1</td>\n",
              "      <td>1</td>\n",
              "      <td>1</td>\n",
              "      <td>0</td>\n",
              "      <td>2</td>\n",
              "      <td>1</td>\n",
              "      <td>5</td>\n",
              "      <td>1</td>\n",
              "      <td>0</td>\n",
              "      <td>83</td>\n",
              "      <td>87</td>\n",
              "      <td>162</td>\n",
              "      <td>253</td>\n",
              "      <td>250</td>\n",
              "      <td>252</td>\n",
              "      <td>252</td>\n",
              "      <td>254</td>\n",
              "      <td>152</td>\n",
              "      <td>92</td>\n",
              "      <td>75</td>\n",
              "      <td>0</td>\n",
              "      <td>0</td>\n",
              "      <td>0</td>\n",
              "      <td>0</td>\n",
              "      <td>6</td>\n",
              "      <td>3</td>\n",
              "      <td>0</td>\n",
              "      <td>0</td>\n",
              "      <td>1</td>\n",
              "      <td>0</td>\n",
              "      <td>0</td>\n",
              "      <td>2</td>\n",
              "      <td>112</td>\n",
              "    </tr>\n",
              "    <tr>\n",
              "      <th>4</th>\n",
              "      <td>0</td>\n",
              "      <td>0</td>\n",
              "      <td>0</td>\n",
              "      <td>0</td>\n",
              "      <td>0</td>\n",
              "      <td>0</td>\n",
              "      <td>0</td>\n",
              "      <td>0</td>\n",
              "      <td>0</td>\n",
              "      <td>0</td>\n",
              "      <td>0</td>\n",
              "      <td>0</td>\n",
              "      <td>0</td>\n",
              "      <td>1</td>\n",
              "      <td>2</td>\n",
              "      <td>3</td>\n",
              "      <td>3</td>\n",
              "      <td>5</td>\n",
              "      <td>6</td>\n",
              "      <td>3</td>\n",
              "      <td>1</td>\n",
              "      <td>0</td>\n",
              "      <td>0</td>\n",
              "      <td>5</td>\n",
              "      <td>2</td>\n",
              "      <td>2</td>\n",
              "      <td>2</td>\n",
              "      <td>1</td>\n",
              "      <td>0</td>\n",
              "      <td>0</td>\n",
              "      <td>0</td>\n",
              "      <td>0</td>\n",
              "      <td>0</td>\n",
              "      <td>0</td>\n",
              "      <td>0</td>\n",
              "      <td>0</td>\n",
              "      <td>0</td>\n",
              "      <td>0</td>\n",
              "      <td>0</td>\n",
              "      <td>0</td>\n",
              "      <td>...</td>\n",
              "      <td>2</td>\n",
              "      <td>2</td>\n",
              "      <td>1</td>\n",
              "      <td>1</td>\n",
              "      <td>0</td>\n",
              "      <td>1</td>\n",
              "      <td>0</td>\n",
              "      <td>0</td>\n",
              "      <td>0</td>\n",
              "      <td>0</td>\n",
              "      <td>0</td>\n",
              "      <td>0</td>\n",
              "      <td>1</td>\n",
              "      <td>1</td>\n",
              "      <td>0</td>\n",
              "      <td>36</td>\n",
              "      <td>164</td>\n",
              "      <td>141</td>\n",
              "      <td>42</td>\n",
              "      <td>53</td>\n",
              "      <td>7</td>\n",
              "      <td>1</td>\n",
              "      <td>0</td>\n",
              "      <td>0</td>\n",
              "      <td>4</td>\n",
              "      <td>3</td>\n",
              "      <td>2</td>\n",
              "      <td>1</td>\n",
              "      <td>1</td>\n",
              "      <td>1</td>\n",
              "      <td>0</td>\n",
              "      <td>0</td>\n",
              "      <td>0</td>\n",
              "      <td>0</td>\n",
              "      <td>0</td>\n",
              "      <td>0</td>\n",
              "      <td>0</td>\n",
              "      <td>0</td>\n",
              "      <td>0</td>\n",
              "      <td>112</td>\n",
              "    </tr>\n",
              "  </tbody>\n",
              "</table>\n",
              "<p>5 rows × 785 columns</p>\n",
              "</div>"
            ],
            "text/plain": [
              "   pixel0  pixel1  pixel2  pixel3  ...  pixel781  pixel782  pixel783  label\n",
              "0       0       2       0       1  ...         4         1         1    112\n",
              "1       0       0       0       1  ...         1         0         0    112\n",
              "2       1       0       0       0  ...         1         1         2    112\n",
              "3       2       1       1       0  ...         0         0         2    112\n",
              "4       0       0       0       0  ...         0         0         0    112\n",
              "\n",
              "[5 rows x 785 columns]"
            ]
          },
          "metadata": {
            "tags": []
          },
          "execution_count": 10
        }
      ]
    },
    {
      "cell_type": "code",
      "metadata": {
        "colab": {
          "base_uri": "https://localhost:8080/"
        },
        "id": "KE0bNjK4ss98",
        "outputId": "2a453b18-2580-4753-d7b4-5613c2873942"
      },
      "source": [
        "df.shape"
      ],
      "execution_count": 11,
      "outputs": [
        {
          "output_type": "execute_result",
          "data": {
            "text/plain": [
              "(30830, 785)"
            ]
          },
          "metadata": {
            "tags": []
          },
          "execution_count": 11
        }
      ]
    },
    {
      "cell_type": "code",
      "metadata": {
        "colab": {
          "base_uri": "https://localhost:8080/"
        },
        "id": "HOuw-3h5svRZ",
        "outputId": "0e8472e8-70c2-436f-9e15-11c2fed78402"
      },
      "source": [
        "df.label.unique()"
      ],
      "execution_count": 12,
      "outputs": [
        {
          "output_type": "execute_result",
          "data": {
            "text/plain": [
              "array([112, 113, 114, 115, 116, 117, 118, 119, 120, 121])"
            ]
          },
          "metadata": {
            "tags": []
          },
          "execution_count": 12
        }
      ]
    },
    {
      "cell_type": "code",
      "metadata": {
        "id": "VWYMXejYs9Ys"
      },
      "source": [
        "df['label'].replace({112:0,113:1,114:2,115:3,116:4,117:5,118:6,119:7,120:8,121:9},inplace=True)"
      ],
      "execution_count": 13,
      "outputs": []
    },
    {
      "cell_type": "code",
      "metadata": {
        "colab": {
          "base_uri": "https://localhost:8080/"
        },
        "id": "kjz-R7XztESl",
        "outputId": "60e8e42f-5bae-4534-848f-b9334cbfd709"
      },
      "source": [
        "df.label.unique()"
      ],
      "execution_count": 14,
      "outputs": [
        {
          "output_type": "execute_result",
          "data": {
            "text/plain": [
              "array([0, 1, 2, 3, 4, 5, 6, 7, 8, 9])"
            ]
          },
          "metadata": {
            "tags": []
          },
          "execution_count": 14
        }
      ]
    },
    {
      "cell_type": "code",
      "metadata": {
        "colab": {
          "base_uri": "https://localhost:8080/",
          "height": 253
        },
        "id": "hS9JcnjatH3v",
        "outputId": "dc660db0-67e2-4c52-fbef-e14a15331aec"
      },
      "source": [
        "df.head()"
      ],
      "execution_count": 15,
      "outputs": [
        {
          "output_type": "execute_result",
          "data": {
            "text/html": [
              "<div>\n",
              "<style scoped>\n",
              "    .dataframe tbody tr th:only-of-type {\n",
              "        vertical-align: middle;\n",
              "    }\n",
              "\n",
              "    .dataframe tbody tr th {\n",
              "        vertical-align: top;\n",
              "    }\n",
              "\n",
              "    .dataframe thead th {\n",
              "        text-align: right;\n",
              "    }\n",
              "</style>\n",
              "<table border=\"1\" class=\"dataframe\">\n",
              "  <thead>\n",
              "    <tr style=\"text-align: right;\">\n",
              "      <th></th>\n",
              "      <th>pixel0</th>\n",
              "      <th>pixel1</th>\n",
              "      <th>pixel2</th>\n",
              "      <th>pixel3</th>\n",
              "      <th>pixel4</th>\n",
              "      <th>pixel5</th>\n",
              "      <th>pixel6</th>\n",
              "      <th>pixel7</th>\n",
              "      <th>pixel8</th>\n",
              "      <th>pixel9</th>\n",
              "      <th>pixel10</th>\n",
              "      <th>pixel11</th>\n",
              "      <th>pixel12</th>\n",
              "      <th>pixel13</th>\n",
              "      <th>pixel14</th>\n",
              "      <th>pixel15</th>\n",
              "      <th>pixel16</th>\n",
              "      <th>pixel17</th>\n",
              "      <th>pixel18</th>\n",
              "      <th>pixel19</th>\n",
              "      <th>pixel20</th>\n",
              "      <th>pixel21</th>\n",
              "      <th>pixel22</th>\n",
              "      <th>pixel23</th>\n",
              "      <th>pixel24</th>\n",
              "      <th>pixel25</th>\n",
              "      <th>pixel26</th>\n",
              "      <th>pixel27</th>\n",
              "      <th>pixel28</th>\n",
              "      <th>pixel29</th>\n",
              "      <th>pixel30</th>\n",
              "      <th>pixel31</th>\n",
              "      <th>pixel32</th>\n",
              "      <th>pixel33</th>\n",
              "      <th>pixel34</th>\n",
              "      <th>pixel35</th>\n",
              "      <th>pixel36</th>\n",
              "      <th>pixel37</th>\n",
              "      <th>pixel38</th>\n",
              "      <th>pixel39</th>\n",
              "      <th>...</th>\n",
              "      <th>pixel745</th>\n",
              "      <th>pixel746</th>\n",
              "      <th>pixel747</th>\n",
              "      <th>pixel748</th>\n",
              "      <th>pixel749</th>\n",
              "      <th>pixel750</th>\n",
              "      <th>pixel751</th>\n",
              "      <th>pixel752</th>\n",
              "      <th>pixel753</th>\n",
              "      <th>pixel754</th>\n",
              "      <th>pixel755</th>\n",
              "      <th>pixel756</th>\n",
              "      <th>pixel757</th>\n",
              "      <th>pixel758</th>\n",
              "      <th>pixel759</th>\n",
              "      <th>pixel760</th>\n",
              "      <th>pixel761</th>\n",
              "      <th>pixel762</th>\n",
              "      <th>pixel763</th>\n",
              "      <th>pixel764</th>\n",
              "      <th>pixel765</th>\n",
              "      <th>pixel766</th>\n",
              "      <th>pixel767</th>\n",
              "      <th>pixel768</th>\n",
              "      <th>pixel769</th>\n",
              "      <th>pixel770</th>\n",
              "      <th>pixel771</th>\n",
              "      <th>pixel772</th>\n",
              "      <th>pixel773</th>\n",
              "      <th>pixel774</th>\n",
              "      <th>pixel775</th>\n",
              "      <th>pixel776</th>\n",
              "      <th>pixel777</th>\n",
              "      <th>pixel778</th>\n",
              "      <th>pixel779</th>\n",
              "      <th>pixel780</th>\n",
              "      <th>pixel781</th>\n",
              "      <th>pixel782</th>\n",
              "      <th>pixel783</th>\n",
              "      <th>label</th>\n",
              "    </tr>\n",
              "  </thead>\n",
              "  <tbody>\n",
              "    <tr>\n",
              "      <th>0</th>\n",
              "      <td>0</td>\n",
              "      <td>2</td>\n",
              "      <td>0</td>\n",
              "      <td>1</td>\n",
              "      <td>1</td>\n",
              "      <td>1</td>\n",
              "      <td>1</td>\n",
              "      <td>0</td>\n",
              "      <td>2</td>\n",
              "      <td>3</td>\n",
              "      <td>0</td>\n",
              "      <td>0</td>\n",
              "      <td>3</td>\n",
              "      <td>0</td>\n",
              "      <td>1</td>\n",
              "      <td>1</td>\n",
              "      <td>5</td>\n",
              "      <td>3</td>\n",
              "      <td>3</td>\n",
              "      <td>2</td>\n",
              "      <td>0</td>\n",
              "      <td>0</td>\n",
              "      <td>0</td>\n",
              "      <td>1</td>\n",
              "      <td>0</td>\n",
              "      <td>2</td>\n",
              "      <td>1</td>\n",
              "      <td>1</td>\n",
              "      <td>0</td>\n",
              "      <td>0</td>\n",
              "      <td>0</td>\n",
              "      <td>1</td>\n",
              "      <td>0</td>\n",
              "      <td>0</td>\n",
              "      <td>1</td>\n",
              "      <td>4</td>\n",
              "      <td>3</td>\n",
              "      <td>5</td>\n",
              "      <td>3</td>\n",
              "      <td>4</td>\n",
              "      <td>...</td>\n",
              "      <td>252</td>\n",
              "      <td>251</td>\n",
              "      <td>255</td>\n",
              "      <td>255</td>\n",
              "      <td>255</td>\n",
              "      <td>255</td>\n",
              "      <td>210</td>\n",
              "      <td>162</td>\n",
              "      <td>39</td>\n",
              "      <td>1</td>\n",
              "      <td>2</td>\n",
              "      <td>3</td>\n",
              "      <td>0</td>\n",
              "      <td>0</td>\n",
              "      <td>4</td>\n",
              "      <td>0</td>\n",
              "      <td>4</td>\n",
              "      <td>87</td>\n",
              "      <td>132</td>\n",
              "      <td>242</td>\n",
              "      <td>254</td>\n",
              "      <td>251</td>\n",
              "      <td>253</td>\n",
              "      <td>253</td>\n",
              "      <td>255</td>\n",
              "      <td>254</td>\n",
              "      <td>252</td>\n",
              "      <td>251</td>\n",
              "      <td>253</td>\n",
              "      <td>254</td>\n",
              "      <td>213</td>\n",
              "      <td>96</td>\n",
              "      <td>110</td>\n",
              "      <td>110</td>\n",
              "      <td>34</td>\n",
              "      <td>0</td>\n",
              "      <td>4</td>\n",
              "      <td>1</td>\n",
              "      <td>1</td>\n",
              "      <td>0</td>\n",
              "    </tr>\n",
              "    <tr>\n",
              "      <th>1</th>\n",
              "      <td>0</td>\n",
              "      <td>0</td>\n",
              "      <td>0</td>\n",
              "      <td>1</td>\n",
              "      <td>0</td>\n",
              "      <td>0</td>\n",
              "      <td>2</td>\n",
              "      <td>1</td>\n",
              "      <td>0</td>\n",
              "      <td>1</td>\n",
              "      <td>4</td>\n",
              "      <td>2</td>\n",
              "      <td>0</td>\n",
              "      <td>0</td>\n",
              "      <td>0</td>\n",
              "      <td>0</td>\n",
              "      <td>0</td>\n",
              "      <td>0</td>\n",
              "      <td>0</td>\n",
              "      <td>5</td>\n",
              "      <td>2</td>\n",
              "      <td>1</td>\n",
              "      <td>2</td>\n",
              "      <td>0</td>\n",
              "      <td>0</td>\n",
              "      <td>0</td>\n",
              "      <td>0</td>\n",
              "      <td>0</td>\n",
              "      <td>0</td>\n",
              "      <td>0</td>\n",
              "      <td>1</td>\n",
              "      <td>1</td>\n",
              "      <td>0</td>\n",
              "      <td>2</td>\n",
              "      <td>2</td>\n",
              "      <td>1</td>\n",
              "      <td>3</td>\n",
              "      <td>5</td>\n",
              "      <td>0</td>\n",
              "      <td>0</td>\n",
              "      <td>...</td>\n",
              "      <td>255</td>\n",
              "      <td>255</td>\n",
              "      <td>255</td>\n",
              "      <td>218</td>\n",
              "      <td>179</td>\n",
              "      <td>97</td>\n",
              "      <td>16</td>\n",
              "      <td>0</td>\n",
              "      <td>4</td>\n",
              "      <td>0</td>\n",
              "      <td>0</td>\n",
              "      <td>0</td>\n",
              "      <td>1</td>\n",
              "      <td>0</td>\n",
              "      <td>0</td>\n",
              "      <td>2</td>\n",
              "      <td>2</td>\n",
              "      <td>4</td>\n",
              "      <td>0</td>\n",
              "      <td>0</td>\n",
              "      <td>19</td>\n",
              "      <td>101</td>\n",
              "      <td>198</td>\n",
              "      <td>209</td>\n",
              "      <td>206</td>\n",
              "      <td>207</td>\n",
              "      <td>208</td>\n",
              "      <td>206</td>\n",
              "      <td>205</td>\n",
              "      <td>173</td>\n",
              "      <td>88</td>\n",
              "      <td>42</td>\n",
              "      <td>0</td>\n",
              "      <td>0</td>\n",
              "      <td>0</td>\n",
              "      <td>4</td>\n",
              "      <td>1</td>\n",
              "      <td>0</td>\n",
              "      <td>0</td>\n",
              "      <td>0</td>\n",
              "    </tr>\n",
              "    <tr>\n",
              "      <th>2</th>\n",
              "      <td>1</td>\n",
              "      <td>0</td>\n",
              "      <td>0</td>\n",
              "      <td>0</td>\n",
              "      <td>0</td>\n",
              "      <td>0</td>\n",
              "      <td>0</td>\n",
              "      <td>2</td>\n",
              "      <td>1</td>\n",
              "      <td>1</td>\n",
              "      <td>1</td>\n",
              "      <td>2</td>\n",
              "      <td>3</td>\n",
              "      <td>5</td>\n",
              "      <td>2</td>\n",
              "      <td>6</td>\n",
              "      <td>4</td>\n",
              "      <td>4</td>\n",
              "      <td>4</td>\n",
              "      <td>2</td>\n",
              "      <td>4</td>\n",
              "      <td>4</td>\n",
              "      <td>1</td>\n",
              "      <td>2</td>\n",
              "      <td>1</td>\n",
              "      <td>1</td>\n",
              "      <td>0</td>\n",
              "      <td>0</td>\n",
              "      <td>0</td>\n",
              "      <td>0</td>\n",
              "      <td>0</td>\n",
              "      <td>0</td>\n",
              "      <td>0</td>\n",
              "      <td>0</td>\n",
              "      <td>1</td>\n",
              "      <td>1</td>\n",
              "      <td>1</td>\n",
              "      <td>1</td>\n",
              "      <td>2</td>\n",
              "      <td>2</td>\n",
              "      <td>...</td>\n",
              "      <td>194</td>\n",
              "      <td>221</td>\n",
              "      <td>255</td>\n",
              "      <td>255</td>\n",
              "      <td>221</td>\n",
              "      <td>129</td>\n",
              "      <td>40</td>\n",
              "      <td>0</td>\n",
              "      <td>5</td>\n",
              "      <td>1</td>\n",
              "      <td>2</td>\n",
              "      <td>0</td>\n",
              "      <td>0</td>\n",
              "      <td>1</td>\n",
              "      <td>2</td>\n",
              "      <td>1</td>\n",
              "      <td>2</td>\n",
              "      <td>2</td>\n",
              "      <td>1</td>\n",
              "      <td>0</td>\n",
              "      <td>50</td>\n",
              "      <td>137</td>\n",
              "      <td>131</td>\n",
              "      <td>134</td>\n",
              "      <td>143</td>\n",
              "      <td>238</td>\n",
              "      <td>255</td>\n",
              "      <td>255</td>\n",
              "      <td>255</td>\n",
              "      <td>255</td>\n",
              "      <td>232</td>\n",
              "      <td>160</td>\n",
              "      <td>50</td>\n",
              "      <td>1</td>\n",
              "      <td>0</td>\n",
              "      <td>5</td>\n",
              "      <td>1</td>\n",
              "      <td>1</td>\n",
              "      <td>2</td>\n",
              "      <td>0</td>\n",
              "    </tr>\n",
              "    <tr>\n",
              "      <th>3</th>\n",
              "      <td>2</td>\n",
              "      <td>1</td>\n",
              "      <td>1</td>\n",
              "      <td>0</td>\n",
              "      <td>0</td>\n",
              "      <td>0</td>\n",
              "      <td>1</td>\n",
              "      <td>0</td>\n",
              "      <td>2</td>\n",
              "      <td>1</td>\n",
              "      <td>0</td>\n",
              "      <td>1</td>\n",
              "      <td>0</td>\n",
              "      <td>1</td>\n",
              "      <td>0</td>\n",
              "      <td>3</td>\n",
              "      <td>1</td>\n",
              "      <td>6</td>\n",
              "      <td>5</td>\n",
              "      <td>3</td>\n",
              "      <td>4</td>\n",
              "      <td>2</td>\n",
              "      <td>5</td>\n",
              "      <td>2</td>\n",
              "      <td>1</td>\n",
              "      <td>1</td>\n",
              "      <td>1</td>\n",
              "      <td>1</td>\n",
              "      <td>0</td>\n",
              "      <td>0</td>\n",
              "      <td>0</td>\n",
              "      <td>0</td>\n",
              "      <td>1</td>\n",
              "      <td>1</td>\n",
              "      <td>1</td>\n",
              "      <td>3</td>\n",
              "      <td>1</td>\n",
              "      <td>1</td>\n",
              "      <td>2</td>\n",
              "      <td>2</td>\n",
              "      <td>...</td>\n",
              "      <td>167</td>\n",
              "      <td>58</td>\n",
              "      <td>6</td>\n",
              "      <td>0</td>\n",
              "      <td>4</td>\n",
              "      <td>4</td>\n",
              "      <td>2</td>\n",
              "      <td>1</td>\n",
              "      <td>1</td>\n",
              "      <td>1</td>\n",
              "      <td>0</td>\n",
              "      <td>2</td>\n",
              "      <td>1</td>\n",
              "      <td>5</td>\n",
              "      <td>1</td>\n",
              "      <td>0</td>\n",
              "      <td>83</td>\n",
              "      <td>87</td>\n",
              "      <td>162</td>\n",
              "      <td>253</td>\n",
              "      <td>250</td>\n",
              "      <td>252</td>\n",
              "      <td>252</td>\n",
              "      <td>254</td>\n",
              "      <td>152</td>\n",
              "      <td>92</td>\n",
              "      <td>75</td>\n",
              "      <td>0</td>\n",
              "      <td>0</td>\n",
              "      <td>0</td>\n",
              "      <td>0</td>\n",
              "      <td>6</td>\n",
              "      <td>3</td>\n",
              "      <td>0</td>\n",
              "      <td>0</td>\n",
              "      <td>1</td>\n",
              "      <td>0</td>\n",
              "      <td>0</td>\n",
              "      <td>2</td>\n",
              "      <td>0</td>\n",
              "    </tr>\n",
              "    <tr>\n",
              "      <th>4</th>\n",
              "      <td>0</td>\n",
              "      <td>0</td>\n",
              "      <td>0</td>\n",
              "      <td>0</td>\n",
              "      <td>0</td>\n",
              "      <td>0</td>\n",
              "      <td>0</td>\n",
              "      <td>0</td>\n",
              "      <td>0</td>\n",
              "      <td>0</td>\n",
              "      <td>0</td>\n",
              "      <td>0</td>\n",
              "      <td>0</td>\n",
              "      <td>1</td>\n",
              "      <td>2</td>\n",
              "      <td>3</td>\n",
              "      <td>3</td>\n",
              "      <td>5</td>\n",
              "      <td>6</td>\n",
              "      <td>3</td>\n",
              "      <td>1</td>\n",
              "      <td>0</td>\n",
              "      <td>0</td>\n",
              "      <td>5</td>\n",
              "      <td>2</td>\n",
              "      <td>2</td>\n",
              "      <td>2</td>\n",
              "      <td>1</td>\n",
              "      <td>0</td>\n",
              "      <td>0</td>\n",
              "      <td>0</td>\n",
              "      <td>0</td>\n",
              "      <td>0</td>\n",
              "      <td>0</td>\n",
              "      <td>0</td>\n",
              "      <td>0</td>\n",
              "      <td>0</td>\n",
              "      <td>0</td>\n",
              "      <td>0</td>\n",
              "      <td>0</td>\n",
              "      <td>...</td>\n",
              "      <td>2</td>\n",
              "      <td>2</td>\n",
              "      <td>1</td>\n",
              "      <td>1</td>\n",
              "      <td>0</td>\n",
              "      <td>1</td>\n",
              "      <td>0</td>\n",
              "      <td>0</td>\n",
              "      <td>0</td>\n",
              "      <td>0</td>\n",
              "      <td>0</td>\n",
              "      <td>0</td>\n",
              "      <td>1</td>\n",
              "      <td>1</td>\n",
              "      <td>0</td>\n",
              "      <td>36</td>\n",
              "      <td>164</td>\n",
              "      <td>141</td>\n",
              "      <td>42</td>\n",
              "      <td>53</td>\n",
              "      <td>7</td>\n",
              "      <td>1</td>\n",
              "      <td>0</td>\n",
              "      <td>0</td>\n",
              "      <td>4</td>\n",
              "      <td>3</td>\n",
              "      <td>2</td>\n",
              "      <td>1</td>\n",
              "      <td>1</td>\n",
              "      <td>1</td>\n",
              "      <td>0</td>\n",
              "      <td>0</td>\n",
              "      <td>0</td>\n",
              "      <td>0</td>\n",
              "      <td>0</td>\n",
              "      <td>0</td>\n",
              "      <td>0</td>\n",
              "      <td>0</td>\n",
              "      <td>0</td>\n",
              "      <td>0</td>\n",
              "    </tr>\n",
              "  </tbody>\n",
              "</table>\n",
              "<p>5 rows × 785 columns</p>\n",
              "</div>"
            ],
            "text/plain": [
              "   pixel0  pixel1  pixel2  pixel3  ...  pixel781  pixel782  pixel783  label\n",
              "0       0       2       0       1  ...         4         1         1      0\n",
              "1       0       0       0       1  ...         1         0         0      0\n",
              "2       1       0       0       0  ...         1         1         2      0\n",
              "3       2       1       1       0  ...         0         0         2      0\n",
              "4       0       0       0       0  ...         0         0         0      0\n",
              "\n",
              "[5 rows x 785 columns]"
            ]
          },
          "metadata": {
            "tags": []
          },
          "execution_count": 15
        }
      ]
    },
    {
      "cell_type": "code",
      "metadata": {
        "id": "15en-zZktKPS"
      },
      "source": [
        "X=df.drop('label',axis=1)\n",
        "y=df['label']"
      ],
      "execution_count": 16,
      "outputs": []
    },
    {
      "cell_type": "code",
      "metadata": {
        "id": "vesoZdwxtZry"
      },
      "source": [
        "X_train,X_test,y_train,y_test=train_test_split(X,y,test_size=0.20,random_state=123)"
      ],
      "execution_count": 17,
      "outputs": []
    },
    {
      "cell_type": "code",
      "metadata": {
        "colab": {
          "base_uri": "https://localhost:8080/"
        },
        "id": "sW3B2GGhtrbO",
        "outputId": "fad65159-660d-4485-d4be-21bea12c81c6"
      },
      "source": [
        "len(X_train),len(X_test)"
      ],
      "execution_count": 18,
      "outputs": [
        {
          "output_type": "execute_result",
          "data": {
            "text/plain": [
              "(24664, 6166)"
            ]
          },
          "metadata": {
            "tags": []
          },
          "execution_count": 18
        }
      ]
    },
    {
      "cell_type": "code",
      "metadata": {
        "colab": {
          "base_uri": "https://localhost:8080/"
        },
        "id": "GzPQsDGUt9px",
        "outputId": "8a8b6e42-b998-45fa-94db-37a93dae5106"
      },
      "source": [
        "X_train.shape"
      ],
      "execution_count": 19,
      "outputs": [
        {
          "output_type": "execute_result",
          "data": {
            "text/plain": [
              "(24664, 784)"
            ]
          },
          "metadata": {
            "tags": []
          },
          "execution_count": 19
        }
      ]
    },
    {
      "cell_type": "code",
      "metadata": {
        "id": "xlcjfdFsuAmF"
      },
      "source": [
        "X_train,X_test=X_train.values.reshape(-1,28,28),X_test.values.reshape(-1,28,28)"
      ],
      "execution_count": 20,
      "outputs": []
    },
    {
      "cell_type": "code",
      "metadata": {
        "colab": {
          "base_uri": "https://localhost:8080/"
        },
        "id": "oO4ueJTsuer2",
        "outputId": "df84cb83-9edd-4510-eb36-4d400191fdfd"
      },
      "source": [
        "X_train.shape,X_test.shape"
      ],
      "execution_count": 21,
      "outputs": [
        {
          "output_type": "execute_result",
          "data": {
            "text/plain": [
              "((24664, 28, 28), (6166, 28, 28))"
            ]
          },
          "metadata": {
            "tags": []
          },
          "execution_count": 21
        }
      ]
    },
    {
      "cell_type": "code",
      "metadata": {
        "colab": {
          "base_uri": "https://localhost:8080/"
        },
        "id": "6cGFK8c6ujKG",
        "outputId": "a8649ed7-3f7e-481c-8a63-0ae907d430ac"
      },
      "source": [
        "X_train[0].shape"
      ],
      "execution_count": 22,
      "outputs": [
        {
          "output_type": "execute_result",
          "data": {
            "text/plain": [
              "(28, 28)"
            ]
          },
          "metadata": {
            "tags": []
          },
          "execution_count": 22
        }
      ]
    },
    {
      "cell_type": "code",
      "metadata": {
        "colab": {
          "base_uri": "https://localhost:8080/"
        },
        "id": "3h-hLww9usxr",
        "outputId": "575e930e-505f-46df-dea3-2d8097098ccd"
      },
      "source": [
        "print(X_train[0])"
      ],
      "execution_count": 23,
      "outputs": [
        {
          "output_type": "stream",
          "text": [
            "[[  1   0   1   1   3   5   6   6   0   0   6   5   1   2   2   0   0   0\n",
            "    0   0   0   0   0   0   0   0   0   0]\n",
            " [  1   2   2   3   4   0   0   0  46  16   0   0   2   2   2   0   0   0\n",
            "    0   0   0   0   0   0   0   0   0   0]\n",
            " [  1   1   4   0   0  39 128 184 240 211 139  29   3   2   2   1   0   0\n",
            "    0   0   0   0   0   0   0   0   0   0]\n",
            " [  3   2   0  31 153 247 255 255 249 255 255 178   0   4   2   1   0   0\n",
            "    0   0   0   0   0   0   0   0   0   0]\n",
            " [  5   0  65 234 255 252 250 255 255 255 248 249  99   0   3   1   0   0\n",
            "    0   0   0   0   0   0   0   0   0   0]\n",
            " [  0  46 231 255 248 255 255 203 158 193 251 255 168   0   5   1   0   0\n",
            "    0   0   0   0   0   0   0   0   0   0]\n",
            " [  0 122 255 250 255 180  68  20   0   5 211 255 224  36   1   2   0   0\n",
            "    0   0   0   0   0   0   0   0   0   0]\n",
            " [  0 121 255 252 146   0   0   0   9   0 111 255 253  49   0   2   0   0\n",
            "    0   0   0   0   0   0   0   0   0   0]\n",
            " [  0 113 254 224  10   0   7   2   4   1  67 255 248  56   0   4   2   2\n",
            "    0   0   1   0   0   0   0   0   0   0]\n",
            " [  0  28 242 240  56   1   4   1   3   0  74 255 255 147   1   3   1   1\n",
            "    0   0   1   0   0   0   0   0   0   0]\n",
            " [  5   0 118 255 113   0   7   2   4   0  75 255 255 160   0   3   0   0\n",
            "    0   0   0   0   0   0   0   0   0   0]\n",
            " [  3   1  11 235 196   2   1   1   4   0  59 244 255 156   0   3   0   0\n",
            "    0   0   0   0   0   0   0   0   0   0]\n",
            " [  1   4   1  78 229  25   0   3   2   2   0 183 255 155   0   5   1   0\n",
            "    0   0   0   0   0   0   0   0   0   0]\n",
            " [  0   1   4   0 109 102   0   4   3   1  35 222 255 156   0   4   2   0\n",
            "    0   0   0   0   0   0   0   0   0   0]\n",
            " [  0   2   2   3   3  17   1   1   5   0  78 255 255 168   0   3   1   0\n",
            "    0   0   0   0   0   0   0   0   0   0]\n",
            " [  2   1   1   5   3   0   2   2   4   0  64 254 255 134   0   3   0   0\n",
            "    0   0   0   0   0   0   0   0   0   0]\n",
            " [  0   0   1   1   2   1   2   1   4   0 145 255 250  48   0   2   0   0\n",
            "    0   0   1   1   0   0   0   0   0   0]\n",
            " [  1   0   1   0   1   0   1   1   3   1 187 255 254  58   0   3   0   0\n",
            "    0   0   0   0   0   0   0   0   0   0]\n",
            " [  0   0   0   0   0   0   0   3   4   0 179 254 221  28   1   3   1   0\n",
            "    0   0   0   0   1   0   0   0   0   0]\n",
            " [  0   0   0   0   0   0   1   5   0  80 239 255 134   0   4   1   0   0\n",
            "    0   0   0   0   0   0   0   0   0   0]\n",
            " [  0   0   0   0   0   0   2   3   7 194 255 235  42   2   4   2   0   0\n",
            "    0   0   0   0   0   0   0   0   0   0]\n",
            " [  0   0   0   0   0   0   3   0  68 250 254 184   0   3   2   1   2   0\n",
            "    0   0   0   0   1   0   0   0   0   0]\n",
            " [  0   0   0   0   1   1   4   4 163 255 255 124   3   8   5   3   3   2\n",
            "    1   1   0   1   1   0   1   1   1   0]\n",
            " [  0   0   0   0   3   4   0  36 238 253 255  61   0   0   0   1   6   4\n",
            "    3   3   3   3   2   1   1   1   1   0]\n",
            " [  0   0   0   0   2   3  11 161 255 248 253 214  99  69  69   4   0   0\n",
            "    0   0   0   1   5   4   2   2   4   1]\n",
            " [  0   0   0   1   3   0  31 231 254 255 255 255 255 255 253 186 186 115\n",
            "   43  49  25   2   0   0   0   0   0   0]\n",
            " [  0   0   0   0   4   1  13 218 220 135 231 225 239 255 255 255 255 255\n",
            "  249 253 213 185 151 160  64  61  74  47]\n",
            " [  0   0   0   0   1   1   2 114  69   0  30  21  62 149 148 232 250 251\n",
            "  254 254 255 255 255 255 246 246 215 119]]\n"
          ],
          "name": "stdout"
        }
      ]
    },
    {
      "cell_type": "code",
      "metadata": {
        "colab": {
          "base_uri": "https://localhost:8080/",
          "height": 292
        },
        "id": "JMJ739yGuv8E",
        "outputId": "feb64c73-1f7d-473a-8a95-2ee554e27c01"
      },
      "source": [
        "plt.matshow(X_train[0])"
      ],
      "execution_count": 24,
      "outputs": [
        {
          "output_type": "execute_result",
          "data": {
            "text/plain": [
              "<matplotlib.image.AxesImage at 0x7ff1ca7f4450>"
            ]
          },
          "metadata": {
            "tags": []
          },
          "execution_count": 24
        },
        {
          "output_type": "display_data",
          "data": {
            "image/png": "[encoded data removed]",
            "text/plain": [
              "<Figure size 288x288 with 1 Axes>"
            ]
          },
          "metadata": {
            "tags": [],
            "needs_background": "light"
          }
        }
      ]
    },
    {
      "cell_type": "code",
      "metadata": {
        "id": "sMNWB5zGu923"
      },
      "source": [
        "X_train, X_test = X_train / 255, X_test / 255"
      ],
      "execution_count": 25,
      "outputs": []
    },
    {
      "cell_type": "code",
      "metadata": {
        "colab": {
          "base_uri": "https://localhost:8080/"
        },
        "id": "sCmnGNSivT7p",
        "outputId": "fddee8df-f93b-41f5-94cc-c5dc13bbb123"
      },
      "source": [
        "print(X_train[0])"
      ],
      "execution_count": 26,
      "outputs": [
        {
          "output_type": "stream",
          "text": [
            "[[0.00392157 0.         0.00392157 0.00392157 0.01176471 0.01960784\n",
            "  0.02352941 0.02352941 0.         0.         0.02352941 0.01960784\n",
            "  0.00392157 0.00784314 0.00784314 0.         0.         0.\n",
            "  0.         0.         0.         0.         0.         0.\n",
            "  0.         0.         0.         0.        ]\n",
            " [0.00392157 0.00784314 0.00784314 0.01176471 0.01568627 0.\n",
            "  0.         0.         0.18039216 0.0627451  0.         0.\n",
            "  0.00784314 0.00784314 0.00784314 0.         0.         0.\n",
            "  0.         0.         0.         0.         0.         0.\n",
            "  0.         0.         0.         0.        ]\n",
            " [0.00392157 0.00392157 0.01568627 0.         0.         0.15294118\n",
            "  0.50196078 0.72156863 0.94117647 0.82745098 0.54509804 0.11372549\n",
            "  0.01176471 0.00784314 0.00784314 0.00392157 0.         0.\n",
            "  0.         0.         0.         0.         0.         0.\n",
            "  0.         0.         0.         0.        ]\n",
            " [0.01176471 0.00784314 0.         0.12156863 0.6        0.96862745\n",
            "  1.         1.         0.97647059 1.         1.         0.69803922\n",
            "  0.         0.01568627 0.00784314 0.00392157 0.         0.\n",
            "  0.         0.         0.         0.         0.         0.\n",
            "  0.         0.         0.         0.        ]\n",
            " [0.01960784 0.         0.25490196 0.91764706 1.         0.98823529\n",
            "  0.98039216 1.         1.         1.         0.97254902 0.97647059\n",
            "  0.38823529 0.         0.01176471 0.00392157 0.         0.\n",
            "  0.         0.         0.         0.         0.         0.\n",
            "  0.         0.         0.         0.        ]\n",
            " [0.         0.18039216 0.90588235 1.         0.97254902 1.\n",
            "  1.         0.79607843 0.61960784 0.75686275 0.98431373 1.\n",
            "  0.65882353 0.         0.01960784 0.00392157 0.         0.\n",
            "  0.         0.         0.         0.         0.         0.\n",
            "  0.         0.         0.         0.        ]\n",
            " [0.         0.47843137 1.         0.98039216 1.         0.70588235\n",
            "  0.26666667 0.07843137 0.         0.01960784 0.82745098 1.\n",
            "  0.87843137 0.14117647 0.00392157 0.00784314 0.         0.\n",
            "  0.         0.         0.         0.         0.         0.\n",
            "  0.         0.         0.         0.        ]\n",
            " [0.         0.4745098  1.         0.98823529 0.57254902 0.\n",
            "  0.         0.         0.03529412 0.         0.43529412 1.\n",
            "  0.99215686 0.19215686 0.         0.00784314 0.         0.\n",
            "  0.         0.         0.         0.         0.         0.\n",
            "  0.         0.         0.         0.        ]\n",
            " [0.         0.44313725 0.99607843 0.87843137 0.03921569 0.\n",
            "  0.02745098 0.00784314 0.01568627 0.00392157 0.2627451  1.\n",
            "  0.97254902 0.21960784 0.         0.01568627 0.00784314 0.00784314\n",
            "  0.         0.         0.00392157 0.         0.         0.\n",
            "  0.         0.         0.         0.        ]\n",
            " [0.         0.10980392 0.94901961 0.94117647 0.21960784 0.00392157\n",
            "  0.01568627 0.00392157 0.01176471 0.         0.29019608 1.\n",
            "  1.         0.57647059 0.00392157 0.01176471 0.00392157 0.00392157\n",
            "  0.         0.         0.00392157 0.         0.         0.\n",
            "  0.         0.         0.         0.        ]\n",
            " [0.01960784 0.         0.4627451  1.         0.44313725 0.\n",
            "  0.02745098 0.00784314 0.01568627 0.         0.29411765 1.\n",
            "  1.         0.62745098 0.         0.01176471 0.         0.\n",
            "  0.         0.         0.         0.         0.         0.\n",
            "  0.         0.         0.         0.        ]\n",
            " [0.01176471 0.00392157 0.04313725 0.92156863 0.76862745 0.00784314\n",
            "  0.00392157 0.00392157 0.01568627 0.         0.23137255 0.95686275\n",
            "  1.         0.61176471 0.         0.01176471 0.         0.\n",
            "  0.         0.         0.         0.         0.         0.\n",
            "  0.         0.         0.         0.        ]\n",
            " [0.00392157 0.01568627 0.00392157 0.30588235 0.89803922 0.09803922\n",
            "  0.         0.01176471 0.00784314 0.00784314 0.         0.71764706\n",
            "  1.         0.60784314 0.         0.01960784 0.00392157 0.\n",
            "  0.         0.         0.         0.         0.         0.\n",
            "  0.         0.         0.         0.        ]\n",
            " [0.         0.00392157 0.01568627 0.         0.42745098 0.4\n",
            "  0.         0.01568627 0.01176471 0.00392157 0.1372549  0.87058824\n",
            "  1.         0.61176471 0.         0.01568627 0.00784314 0.\n",
            "  0.         0.         0.         0.         0.         0.\n",
            "  0.         0.         0.         0.        ]\n",
            " [0.         0.00784314 0.00784314 0.01176471 0.01176471 0.06666667\n",
            "  0.00392157 0.00392157 0.01960784 0.         0.30588235 1.\n",
            "  1.         0.65882353 0.         0.01176471 0.00392157 0.\n",
            "  0.         0.         0.         0.         0.         0.\n",
            "  0.         0.         0.         0.        ]\n",
            " [0.00784314 0.00392157 0.00392157 0.01960784 0.01176471 0.\n",
            "  0.00784314 0.00784314 0.01568627 0.         0.25098039 0.99607843\n",
            "  1.         0.5254902  0.         0.01176471 0.         0.\n",
            "  0.         0.         0.         0.         0.         0.\n",
            "  0.         0.         0.         0.        ]\n",
            " [0.         0.         0.00392157 0.00392157 0.00784314 0.00392157\n",
            "  0.00784314 0.00392157 0.01568627 0.         0.56862745 1.\n",
            "  0.98039216 0.18823529 0.         0.00784314 0.         0.\n",
            "  0.         0.         0.00392157 0.00392157 0.         0.\n",
            "  0.         0.         0.         0.        ]\n",
            " [0.00392157 0.         0.00392157 0.         0.00392157 0.\n",
            "  0.00392157 0.00392157 0.01176471 0.00392157 0.73333333 1.\n",
            "  0.99607843 0.22745098 0.         0.01176471 0.         0.\n",
            "  0.         0.         0.         0.         0.         0.\n",
            "  0.         0.         0.         0.        ]\n",
            " [0.         0.         0.         0.         0.         0.\n",
            "  0.         0.01176471 0.01568627 0.         0.70196078 0.99607843\n",
            "  0.86666667 0.10980392 0.00392157 0.01176471 0.00392157 0.\n",
            "  0.         0.         0.         0.         0.00392157 0.\n",
            "  0.         0.         0.         0.        ]\n",
            " [0.         0.         0.         0.         0.         0.\n",
            "  0.00392157 0.01960784 0.         0.31372549 0.9372549  1.\n",
            "  0.5254902  0.         0.01568627 0.00392157 0.         0.\n",
            "  0.         0.         0.         0.         0.         0.\n",
            "  0.         0.         0.         0.        ]\n",
            " [0.         0.         0.         0.         0.         0.\n",
            "  0.00784314 0.01176471 0.02745098 0.76078431 1.         0.92156863\n",
            "  0.16470588 0.00784314 0.01568627 0.00784314 0.         0.\n",
            "  0.         0.         0.         0.         0.         0.\n",
            "  0.         0.         0.         0.        ]\n",
            " [0.         0.         0.         0.         0.         0.\n",
            "  0.01176471 0.         0.26666667 0.98039216 0.99607843 0.72156863\n",
            "  0.         0.01176471 0.00784314 0.00392157 0.00784314 0.\n",
            "  0.         0.         0.         0.         0.00392157 0.\n",
            "  0.         0.         0.         0.        ]\n",
            " [0.         0.         0.         0.         0.00392157 0.00392157\n",
            "  0.01568627 0.01568627 0.63921569 1.         1.         0.48627451\n",
            "  0.01176471 0.03137255 0.01960784 0.01176471 0.01176471 0.00784314\n",
            "  0.00392157 0.00392157 0.         0.00392157 0.00392157 0.\n",
            "  0.00392157 0.00392157 0.00392157 0.        ]\n",
            " [0.         0.         0.         0.         0.01176471 0.01568627\n",
            "  0.         0.14117647 0.93333333 0.99215686 1.         0.23921569\n",
            "  0.         0.         0.         0.00392157 0.02352941 0.01568627\n",
            "  0.01176471 0.01176471 0.01176471 0.01176471 0.00784314 0.00392157\n",
            "  0.00392157 0.00392157 0.00392157 0.        ]\n",
            " [0.         0.         0.         0.         0.00784314 0.01176471\n",
            "  0.04313725 0.63137255 1.         0.97254902 0.99215686 0.83921569\n",
            "  0.38823529 0.27058824 0.27058824 0.01568627 0.         0.\n",
            "  0.         0.         0.         0.00392157 0.01960784 0.01568627\n",
            "  0.00784314 0.00784314 0.01568627 0.00392157]\n",
            " [0.         0.         0.         0.00392157 0.01176471 0.\n",
            "  0.12156863 0.90588235 0.99607843 1.         1.         1.\n",
            "  1.         1.         0.99215686 0.72941176 0.72941176 0.45098039\n",
            "  0.16862745 0.19215686 0.09803922 0.00784314 0.         0.\n",
            "  0.         0.         0.         0.        ]\n",
            " [0.         0.         0.         0.         0.01568627 0.00392157\n",
            "  0.05098039 0.85490196 0.8627451  0.52941176 0.90588235 0.88235294\n",
            "  0.9372549  1.         1.         1.         1.         1.\n",
            "  0.97647059 0.99215686 0.83529412 0.7254902  0.59215686 0.62745098\n",
            "  0.25098039 0.23921569 0.29019608 0.18431373]\n",
            " [0.         0.         0.         0.         0.00392157 0.00392157\n",
            "  0.00784314 0.44705882 0.27058824 0.         0.11764706 0.08235294\n",
            "  0.24313725 0.58431373 0.58039216 0.90980392 0.98039216 0.98431373\n",
            "  0.99607843 0.99607843 1.         1.         1.         1.\n",
            "  0.96470588 0.96470588 0.84313725 0.46666667]]\n"
          ],
          "name": "stdout"
        }
      ]
    },
    {
      "cell_type": "code",
      "metadata": {
        "colab": {
          "base_uri": "https://localhost:8080/"
        },
        "id": "MzJWJtkM35QJ",
        "outputId": "a4ff611f-d393-41fd-8459-1dbe72a83cb9"
      },
      "source": [
        "X_train[0].shape"
      ],
      "execution_count": 27,
      "outputs": [
        {
          "output_type": "execute_result",
          "data": {
            "text/plain": [
              "(28, 28)"
            ]
          },
          "metadata": {
            "tags": []
          },
          "execution_count": 27
        }
      ]
    },
    {
      "cell_type": "code",
      "metadata": {
        "colab": {
          "base_uri": "https://localhost:8080/"
        },
        "id": "DsPy6AFiggKy",
        "outputId": "2900563c-da59-4526-e713-2aa93f044d1a"
      },
      "source": [
        "X_train=X_train.reshape(len(X_train),28,28,1)\n",
        "X_test=X_test.reshape(len(X_test),28,28,1)\n",
        "X_train[0].shape"
      ],
      "execution_count": 28,
      "outputs": [
        {
          "output_type": "execute_result",
          "data": {
            "text/plain": [
              "(28, 28, 1)"
            ]
          },
          "metadata": {
            "tags": []
          },
          "execution_count": 28
        }
      ]
    },
    {
      "cell_type": "code",
      "metadata": {
        "id": "PmthiPhtgvZV"
      },
      "source": [
        "data_aug=keras.Sequential([\n",
        "                           keras.layers.experimental.preprocessing.RandomFlip('horizontal',input_shape=(28,28,1)),\n",
        "                           keras.layers.experimental.preprocessing.RandomRotation(0.1),\n",
        "                           keras.layers.experimental.preprocessing.RandomZoom(0.1)\n",
        "])"
      ],
      "execution_count": 29,
      "outputs": []
    },
    {
      "cell_type": "code",
      "metadata": {
        "colab": {
          "base_uri": "https://localhost:8080/"
        },
        "id": "t-dL7rlpwBXd",
        "outputId": "22d69a93-87ab-4e4c-8ce6-c3db7e8cd1b2"
      },
      "source": [
        "model=keras.Sequential([\n",
        "                        data_aug,\n",
        "                        keras.layers.Conv2D(filters=32,kernel_size=(3,3),padding='same',activation='relu',kernel_initializer='he_uniform'),\n",
        "                        keras.layers.MaxPool2D(2,2),\n",
        "                        \n",
        "                        keras.layers.Conv2D(filters=64,kernel_size=(3,3),padding='same',activation='relu',kernel_initializer='he_uniform'),\n",
        "                        keras.layers.MaxPool2D(2,2),\n",
        "\n",
        "                        keras.layers.Conv2D(filters=128,kernel_size=(3,3),padding='same',activation='relu',kernel_initializer='he_uniform'),\n",
        "                        keras.layers.MaxPool2D(2,2),\n",
        "\n",
        "                        keras.layers.Flatten(),\n",
        "                        keras.layers.Dense(units=64,activation='relu'),\n",
        "                        keras.layers.Dense(10,activation='softmax')\n",
        "])\n",
        "\n",
        "\n",
        "model.compile(\n",
        "    optimizer='adam',\n",
        "    loss='sparse_categorical_crossentropy',\n",
        "    metrics=['accuracy']\n",
        ")\n",
        "history=model.fit(X_train,y_train,epochs=100,validation_split=0.20)"
      ],
      "execution_count": 30,
      "outputs": [
        {
          "output_type": "stream",
          "text": [
            "Epoch 1/100\n",
            "617/617 [==============================] - 27s 42ms/step - loss: 1.1509 - accuracy: 0.6331 - val_loss: 0.4670 - val_accuracy: 0.8394\n",
            "Epoch 2/100\n",
            "617/617 [==============================] - 25s 41ms/step - loss: 0.3908 - accuracy: 0.8749 - val_loss: 0.2777 - val_accuracy: 0.9059\n",
            "Epoch 3/100\n",
            "617/617 [==============================] - 25s 41ms/step - loss: 0.3080 - accuracy: 0.8986 - val_loss: 0.2405 - val_accuracy: 0.9215\n",
            "Epoch 4/100\n",
            "617/617 [==============================] - 25s 41ms/step - loss: 0.2424 - accuracy: 0.9219 - val_loss: 0.1437 - val_accuracy: 0.9570\n",
            "Epoch 5/100\n",
            "617/617 [==============================] - 25s 41ms/step - loss: 0.2111 - accuracy: 0.9300 - val_loss: 0.1537 - val_accuracy: 0.9520\n",
            "Epoch 6/100\n",
            "617/617 [==============================] - 27s 43ms/step - loss: 0.1961 - accuracy: 0.9380 - val_loss: 0.1166 - val_accuracy: 0.9629\n",
            "Epoch 7/100\n",
            "617/617 [==============================] - 25s 41ms/step - loss: 0.1617 - accuracy: 0.9463 - val_loss: 0.1230 - val_accuracy: 0.9615\n",
            "Epoch 8/100\n",
            "617/617 [==============================] - 25s 41ms/step - loss: 0.1584 - accuracy: 0.9512 - val_loss: 0.1294 - val_accuracy: 0.9613\n",
            "Epoch 9/100\n",
            "617/617 [==============================] - 25s 41ms/step - loss: 0.1439 - accuracy: 0.9541 - val_loss: 0.1004 - val_accuracy: 0.9716\n",
            "Epoch 10/100\n",
            "617/617 [==============================] - 25s 41ms/step - loss: 0.1320 - accuracy: 0.9576 - val_loss: 0.1153 - val_accuracy: 0.9625\n",
            "Epoch 11/100\n",
            "617/617 [==============================] - 25s 41ms/step - loss: 0.1182 - accuracy: 0.9620 - val_loss: 0.0886 - val_accuracy: 0.9718\n",
            "Epoch 12/100\n",
            "617/617 [==============================] - 25s 41ms/step - loss: 0.1140 - accuracy: 0.9638 - val_loss: 0.0911 - val_accuracy: 0.9714\n",
            "Epoch 13/100\n",
            "617/617 [==============================] - 25s 41ms/step - loss: 0.1078 - accuracy: 0.9643 - val_loss: 0.0862 - val_accuracy: 0.9690\n",
            "Epoch 14/100\n",
            "617/617 [==============================] - 25s 41ms/step - loss: 0.0990 - accuracy: 0.9706 - val_loss: 0.1087 - val_accuracy: 0.9678\n",
            "Epoch 15/100\n",
            "617/617 [==============================] - 25s 41ms/step - loss: 0.1031 - accuracy: 0.9669 - val_loss: 0.1000 - val_accuracy: 0.9696\n",
            "Epoch 16/100\n",
            "617/617 [==============================] - 25s 41ms/step - loss: 0.0925 - accuracy: 0.9696 - val_loss: 0.0848 - val_accuracy: 0.9732\n",
            "Epoch 17/100\n",
            "617/617 [==============================] - 26s 41ms/step - loss: 0.0792 - accuracy: 0.9745 - val_loss: 0.0816 - val_accuracy: 0.9743\n",
            "Epoch 18/100\n",
            "617/617 [==============================] - 25s 41ms/step - loss: 0.0875 - accuracy: 0.9736 - val_loss: 0.0870 - val_accuracy: 0.9751\n",
            "Epoch 19/100\n",
            "617/617 [==============================] - 25s 41ms/step - loss: 0.0793 - accuracy: 0.9739 - val_loss: 0.0929 - val_accuracy: 0.9730\n",
            "Epoch 20/100\n",
            "617/617 [==============================] - 25s 41ms/step - loss: 0.0733 - accuracy: 0.9762 - val_loss: 0.0667 - val_accuracy: 0.9797\n",
            "Epoch 21/100\n",
            "617/617 [==============================] - 25s 41ms/step - loss: 0.0809 - accuracy: 0.9730 - val_loss: 0.0868 - val_accuracy: 0.9759\n",
            "Epoch 22/100\n",
            "617/617 [==============================] - 25s 41ms/step - loss: 0.0692 - accuracy: 0.9768 - val_loss: 0.0848 - val_accuracy: 0.9777\n",
            "Epoch 23/100\n",
            "617/617 [==============================] - 25s 41ms/step - loss: 0.0780 - accuracy: 0.9749 - val_loss: 0.0949 - val_accuracy: 0.9738\n",
            "Epoch 24/100\n",
            "617/617 [==============================] - 25s 41ms/step - loss: 0.0669 - accuracy: 0.9802 - val_loss: 0.1051 - val_accuracy: 0.9732\n",
            "Epoch 25/100\n",
            "617/617 [==============================] - 25s 41ms/step - loss: 0.0621 - accuracy: 0.9803 - val_loss: 0.0845 - val_accuracy: 0.9773\n",
            "Epoch 26/100\n",
            "617/617 [==============================] - 25s 41ms/step - loss: 0.0622 - accuracy: 0.9785 - val_loss: 0.0853 - val_accuracy: 0.9777\n",
            "Epoch 27/100\n",
            "617/617 [==============================] - 25s 41ms/step - loss: 0.0570 - accuracy: 0.9796 - val_loss: 0.0768 - val_accuracy: 0.9805\n",
            "Epoch 28/100\n",
            "617/617 [==============================] - 25s 41ms/step - loss: 0.0601 - accuracy: 0.9806 - val_loss: 0.0730 - val_accuracy: 0.9771\n",
            "Epoch 29/100\n",
            "617/617 [==============================] - 25s 41ms/step - loss: 0.0536 - accuracy: 0.9819 - val_loss: 0.0717 - val_accuracy: 0.9824\n",
            "Epoch 30/100\n",
            "617/617 [==============================] - 25s 41ms/step - loss: 0.0551 - accuracy: 0.9807 - val_loss: 0.0760 - val_accuracy: 0.9783\n",
            "Epoch 31/100\n",
            "617/617 [==============================] - 25s 41ms/step - loss: 0.0553 - accuracy: 0.9811 - val_loss: 0.0813 - val_accuracy: 0.9783\n",
            "Epoch 32/100\n",
            "617/617 [==============================] - 25s 41ms/step - loss: 0.0503 - accuracy: 0.9844 - val_loss: 0.0984 - val_accuracy: 0.9738\n",
            "Epoch 33/100\n",
            "617/617 [==============================] - 25s 41ms/step - loss: 0.0519 - accuracy: 0.9834 - val_loss: 0.0731 - val_accuracy: 0.9803\n",
            "Epoch 34/100\n",
            "617/617 [==============================] - 25s 41ms/step - loss: 0.0526 - accuracy: 0.9843 - val_loss: 0.0687 - val_accuracy: 0.9807\n",
            "Epoch 35/100\n",
            "617/617 [==============================] - 25s 41ms/step - loss: 0.0443 - accuracy: 0.9843 - val_loss: 0.0744 - val_accuracy: 0.9809\n",
            "Epoch 36/100\n",
            "617/617 [==============================] - 25s 41ms/step - loss: 0.0562 - accuracy: 0.9820 - val_loss: 0.0629 - val_accuracy: 0.9838\n",
            "Epoch 37/100\n",
            "617/617 [==============================] - 25s 41ms/step - loss: 0.0447 - accuracy: 0.9842 - val_loss: 0.0827 - val_accuracy: 0.9816\n",
            "Epoch 38/100\n",
            "617/617 [==============================] - 25s 41ms/step - loss: 0.0456 - accuracy: 0.9855 - val_loss: 0.0646 - val_accuracy: 0.9826\n",
            "Epoch 39/100\n",
            "617/617 [==============================] - 25s 41ms/step - loss: 0.0466 - accuracy: 0.9847 - val_loss: 0.0859 - val_accuracy: 0.9773\n",
            "Epoch 40/100\n",
            "617/617 [==============================] - 25s 41ms/step - loss: 0.0448 - accuracy: 0.9858 - val_loss: 0.0762 - val_accuracy: 0.9814\n",
            "Epoch 41/100\n",
            "617/617 [==============================] - 25s 41ms/step - loss: 0.0473 - accuracy: 0.9843 - val_loss: 0.0708 - val_accuracy: 0.9834\n",
            "Epoch 42/100\n",
            "617/617 [==============================] - 25s 41ms/step - loss: 0.0400 - accuracy: 0.9872 - val_loss: 0.0896 - val_accuracy: 0.9801\n",
            "Epoch 43/100\n",
            "617/617 [==============================] - 25s 41ms/step - loss: 0.0457 - accuracy: 0.9840 - val_loss: 0.0683 - val_accuracy: 0.9832\n",
            "Epoch 44/100\n",
            "617/617 [==============================] - 25s 41ms/step - loss: 0.0395 - accuracy: 0.9863 - val_loss: 0.0696 - val_accuracy: 0.9842\n",
            "Epoch 45/100\n",
            "617/617 [==============================] - 25s 41ms/step - loss: 0.0445 - accuracy: 0.9850 - val_loss: 0.0757 - val_accuracy: 0.9820\n",
            "Epoch 46/100\n",
            "617/617 [==============================] - 25s 41ms/step - loss: 0.0407 - accuracy: 0.9858 - val_loss: 0.0707 - val_accuracy: 0.9832\n",
            "Epoch 47/100\n",
            "617/617 [==============================] - 25s 41ms/step - loss: 0.0390 - accuracy: 0.9875 - val_loss: 0.0873 - val_accuracy: 0.9828\n",
            "Epoch 48/100\n",
            "617/617 [==============================] - 25s 41ms/step - loss: 0.0436 - accuracy: 0.9861 - val_loss: 0.0932 - val_accuracy: 0.9795\n",
            "Epoch 49/100\n",
            "617/617 [==============================] - 25s 41ms/step - loss: 0.0416 - accuracy: 0.9862 - val_loss: 0.0928 - val_accuracy: 0.9797\n",
            "Epoch 50/100\n",
            "617/617 [==============================] - 25s 41ms/step - loss: 0.0382 - accuracy: 0.9856 - val_loss: 0.0736 - val_accuracy: 0.9826\n",
            "Epoch 51/100\n",
            "617/617 [==============================] - 25s 41ms/step - loss: 0.0400 - accuracy: 0.9871 - val_loss: 0.0734 - val_accuracy: 0.9848\n",
            "Epoch 52/100\n",
            "617/617 [==============================] - 25s 41ms/step - loss: 0.0378 - accuracy: 0.9885 - val_loss: 0.0714 - val_accuracy: 0.9854\n",
            "Epoch 53/100\n",
            "617/617 [==============================] - 25s 41ms/step - loss: 0.0339 - accuracy: 0.9892 - val_loss: 0.0794 - val_accuracy: 0.9828\n",
            "Epoch 54/100\n",
            "617/617 [==============================] - 25s 41ms/step - loss: 0.0358 - accuracy: 0.9893 - val_loss: 0.0819 - val_accuracy: 0.9820\n",
            "Epoch 55/100\n",
            "617/617 [==============================] - 25s 41ms/step - loss: 0.0418 - accuracy: 0.9870 - val_loss: 0.0753 - val_accuracy: 0.9830\n",
            "Epoch 56/100\n",
            "617/617 [==============================] - 25s 41ms/step - loss: 0.0342 - accuracy: 0.9892 - val_loss: 0.0760 - val_accuracy: 0.9848\n",
            "Epoch 57/100\n",
            "617/617 [==============================] - 25s 41ms/step - loss: 0.0351 - accuracy: 0.9873 - val_loss: 0.0763 - val_accuracy: 0.9820\n",
            "Epoch 58/100\n",
            "617/617 [==============================] - 25s 41ms/step - loss: 0.0346 - accuracy: 0.9879 - val_loss: 0.0692 - val_accuracy: 0.9846\n",
            "Epoch 59/100\n",
            "617/617 [==============================] - 25s 41ms/step - loss: 0.0329 - accuracy: 0.9889 - val_loss: 0.0770 - val_accuracy: 0.9832\n",
            "Epoch 60/100\n",
            "617/617 [==============================] - 25s 41ms/step - loss: 0.0288 - accuracy: 0.9903 - val_loss: 0.0804 - val_accuracy: 0.9848\n",
            "Epoch 61/100\n",
            "617/617 [==============================] - 25s 41ms/step - loss: 0.0466 - accuracy: 0.9850 - val_loss: 0.0704 - val_accuracy: 0.9858\n",
            "Epoch 62/100\n",
            "617/617 [==============================] - 25s 41ms/step - loss: 0.0344 - accuracy: 0.9873 - val_loss: 0.0894 - val_accuracy: 0.9807\n",
            "Epoch 63/100\n",
            "617/617 [==============================] - 25s 41ms/step - loss: 0.0324 - accuracy: 0.9890 - val_loss: 0.0676 - val_accuracy: 0.9856\n",
            "Epoch 64/100\n",
            "617/617 [==============================] - 25s 41ms/step - loss: 0.0289 - accuracy: 0.9902 - val_loss: 0.0739 - val_accuracy: 0.9836\n",
            "Epoch 65/100\n",
            "617/617 [==============================] - 25s 41ms/step - loss: 0.0290 - accuracy: 0.9905 - val_loss: 0.0808 - val_accuracy: 0.9840\n",
            "Epoch 66/100\n",
            "617/617 [==============================] - 25s 41ms/step - loss: 0.0294 - accuracy: 0.9900 - val_loss: 0.0796 - val_accuracy: 0.9828\n",
            "Epoch 67/100\n",
            "617/617 [==============================] - 25s 41ms/step - loss: 0.0273 - accuracy: 0.9902 - val_loss: 0.0743 - val_accuracy: 0.9854\n",
            "Epoch 68/100\n",
            "617/617 [==============================] - 25s 41ms/step - loss: 0.0280 - accuracy: 0.9904 - val_loss: 0.0598 - val_accuracy: 0.9874\n",
            "Epoch 69/100\n",
            "617/617 [==============================] - 25s 41ms/step - loss: 0.0319 - accuracy: 0.9899 - val_loss: 0.0747 - val_accuracy: 0.9834\n",
            "Epoch 70/100\n",
            "617/617 [==============================] - 25s 41ms/step - loss: 0.0260 - accuracy: 0.9914 - val_loss: 0.0792 - val_accuracy: 0.9860\n",
            "Epoch 71/100\n",
            "617/617 [==============================] - 25s 41ms/step - loss: 0.0381 - accuracy: 0.9876 - val_loss: 0.0812 - val_accuracy: 0.9864\n",
            "Epoch 72/100\n",
            "617/617 [==============================] - 25s 41ms/step - loss: 0.0365 - accuracy: 0.9892 - val_loss: 0.0875 - val_accuracy: 0.9820\n",
            "Epoch 73/100\n",
            "617/617 [==============================] - 25s 41ms/step - loss: 0.0235 - accuracy: 0.9918 - val_loss: 0.0729 - val_accuracy: 0.9852\n",
            "Epoch 74/100\n",
            "617/617 [==============================] - 25s 41ms/step - loss: 0.0309 - accuracy: 0.9910 - val_loss: 0.0830 - val_accuracy: 0.9852\n",
            "Epoch 75/100\n",
            "617/617 [==============================] - 25s 41ms/step - loss: 0.0319 - accuracy: 0.9899 - val_loss: 0.0782 - val_accuracy: 0.9842\n",
            "Epoch 76/100\n",
            "617/617 [==============================] - 25s 41ms/step - loss: 0.0288 - accuracy: 0.9906 - val_loss: 0.0809 - val_accuracy: 0.9836\n",
            "Epoch 77/100\n",
            "617/617 [==============================] - 25s 41ms/step - loss: 0.0281 - accuracy: 0.9905 - val_loss: 0.0935 - val_accuracy: 0.9809\n",
            "Epoch 78/100\n",
            "617/617 [==============================] - 25s 41ms/step - loss: 0.0317 - accuracy: 0.9888 - val_loss: 0.1058 - val_accuracy: 0.9820\n",
            "Epoch 79/100\n",
            "617/617 [==============================] - 25s 41ms/step - loss: 0.0252 - accuracy: 0.9911 - val_loss: 0.0849 - val_accuracy: 0.9852\n",
            "Epoch 80/100\n",
            "617/617 [==============================] - 25s 41ms/step - loss: 0.0299 - accuracy: 0.9900 - val_loss: 0.0827 - val_accuracy: 0.9848\n",
            "Epoch 81/100\n",
            "617/617 [==============================] - 25s 41ms/step - loss: 0.0254 - accuracy: 0.9916 - val_loss: 0.0876 - val_accuracy: 0.9824\n",
            "Epoch 82/100\n",
            "617/617 [==============================] - 26s 41ms/step - loss: 0.0283 - accuracy: 0.9907 - val_loss: 0.0852 - val_accuracy: 0.9828\n",
            "Epoch 83/100\n",
            "617/617 [==============================] - 25s 41ms/step - loss: 0.0222 - accuracy: 0.9932 - val_loss: 0.0885 - val_accuracy: 0.9820\n",
            "Epoch 84/100\n",
            "617/617 [==============================] - 26s 41ms/step - loss: 0.0269 - accuracy: 0.9902 - val_loss: 0.0848 - val_accuracy: 0.9838\n",
            "Epoch 85/100\n",
            "617/617 [==============================] - 25s 41ms/step - loss: 0.0227 - accuracy: 0.9920 - val_loss: 0.0919 - val_accuracy: 0.9836\n",
            "Epoch 86/100\n",
            "617/617 [==============================] - 25s 41ms/step - loss: 0.0272 - accuracy: 0.9906 - val_loss: 0.0964 - val_accuracy: 0.9848\n",
            "Epoch 87/100\n",
            "617/617 [==============================] - 25s 41ms/step - loss: 0.0236 - accuracy: 0.9919 - val_loss: 0.0841 - val_accuracy: 0.9856\n",
            "Epoch 88/100\n",
            "617/617 [==============================] - 25s 41ms/step - loss: 0.0287 - accuracy: 0.9918 - val_loss: 0.0933 - val_accuracy: 0.9844\n",
            "Epoch 89/100\n",
            "617/617 [==============================] - 25s 41ms/step - loss: 0.0240 - accuracy: 0.9923 - val_loss: 0.0889 - val_accuracy: 0.9870\n",
            "Epoch 90/100\n",
            "617/617 [==============================] - 25s 41ms/step - loss: 0.0380 - accuracy: 0.9893 - val_loss: 0.0923 - val_accuracy: 0.9846\n",
            "Epoch 91/100\n",
            "617/617 [==============================] - 25s 41ms/step - loss: 0.0257 - accuracy: 0.9918 - val_loss: 0.0914 - val_accuracy: 0.9862\n",
            "Epoch 92/100\n",
            "617/617 [==============================] - 26s 41ms/step - loss: 0.0298 - accuracy: 0.9909 - val_loss: 0.0903 - val_accuracy: 0.9856\n",
            "Epoch 93/100\n",
            "617/617 [==============================] - 25s 41ms/step - loss: 0.0210 - accuracy: 0.9928 - val_loss: 0.0918 - val_accuracy: 0.9858\n",
            "Epoch 94/100\n",
            "617/617 [==============================] - 25s 41ms/step - loss: 0.0248 - accuracy: 0.9916 - val_loss: 0.1011 - val_accuracy: 0.9852\n",
            "Epoch 95/100\n",
            "617/617 [==============================] - 25s 41ms/step - loss: 0.0273 - accuracy: 0.9911 - val_loss: 0.0865 - val_accuracy: 0.9842\n",
            "Epoch 96/100\n",
            "617/617 [==============================] - 25s 41ms/step - loss: 0.0254 - accuracy: 0.9917 - val_loss: 0.1021 - val_accuracy: 0.9824\n",
            "Epoch 97/100\n",
            "617/617 [==============================] - 25s 41ms/step - loss: 0.0229 - accuracy: 0.9930 - val_loss: 0.0900 - val_accuracy: 0.9846\n",
            "Epoch 98/100\n",
            "617/617 [==============================] - 25s 41ms/step - loss: 0.0287 - accuracy: 0.9902 - val_loss: 0.1051 - val_accuracy: 0.9836\n",
            "Epoch 99/100\n",
            "617/617 [==============================] - 25s 41ms/step - loss: 0.0212 - accuracy: 0.9934 - val_loss: 0.0874 - val_accuracy: 0.9864\n",
            "Epoch 100/100\n",
            "617/617 [==============================] - 25s 41ms/step - loss: 0.0243 - accuracy: 0.9926 - val_loss: 0.0765 - val_accuracy: 0.9870\n"
          ],
          "name": "stdout"
        }
      ]
    },
    {
      "cell_type": "code",
      "metadata": {
        "colab": {
          "base_uri": "https://localhost:8080/"
        },
        "id": "H3fItH8KwPO1",
        "outputId": "33bf9c3f-1033-4e0f-b153-389e779dafe6"
      },
      "source": [
        "model.evaluate(X_test,y_test)"
      ],
      "execution_count": 31,
      "outputs": [
        {
          "output_type": "stream",
          "text": [
            "193/193 [==============================] - 2s 12ms/step - loss: 0.1022 - accuracy: 0.9836\n"
          ],
          "name": "stdout"
        },
        {
          "output_type": "execute_result",
          "data": {
            "text/plain": [
              "[0.10221869498491287, 0.9836198687553406]"
            ]
          },
          "metadata": {
            "tags": []
          },
          "execution_count": 31
        }
      ]
    },
    {
      "cell_type": "code",
      "metadata": {
        "colab": {
          "base_uri": "https://localhost:8080/"
        },
        "id": "PnFVk-LFxAw0",
        "outputId": "5b9a63ad-ce98-42a8-de88-6130cbb17291"
      },
      "source": [
        "model.summary()"
      ],
      "execution_count": 32,
      "outputs": [
        {
          "output_type": "stream",
          "text": [
            "Model: \"sequential_1\"\n",
            "_________________________________________________________________\n",
            "Layer (type)                 Output Shape              Param #   \n",
            "=================================================================\n",
            "sequential (Sequential)      (None, 28, 28, 1)         0         \n",
            "_________________________________________________________________\n",
            "conv2d (Conv2D)              (None, 28, 28, 32)        320       \n",
            "_________________________________________________________________\n",
            "max_pooling2d (MaxPooling2D) (None, 14, 14, 32)        0         \n",
            "_________________________________________________________________\n",
            "conv2d_1 (Conv2D)            (None, 14, 14, 64)        18496     \n",
            "_________________________________________________________________\n",
            "max_pooling2d_1 (MaxPooling2 (None, 7, 7, 64)          0         \n",
            "_________________________________________________________________\n",
            "conv2d_2 (Conv2D)            (None, 7, 7, 128)         73856     \n",
            "_________________________________________________________________\n",
            "max_pooling2d_2 (MaxPooling2 (None, 3, 3, 128)         0         \n",
            "_________________________________________________________________\n",
            "flatten (Flatten)            (None, 1152)              0         \n",
            "_________________________________________________________________\n",
            "dense (Dense)                (None, 64)                73792     \n",
            "_________________________________________________________________\n",
            "dense_1 (Dense)              (None, 10)                650       \n",
            "=================================================================\n",
            "Total params: 167,114\n",
            "Trainable params: 167,114\n",
            "Non-trainable params: 0\n",
            "_________________________________________________________________\n"
          ],
          "name": "stdout"
        }
      ]
    },
    {
      "cell_type": "code",
      "metadata": {
        "colab": {
          "base_uri": "https://localhost:8080/",
          "height": 1000
        },
        "id": "VdT7w9i86VfE",
        "outputId": "fc7e29bc-9bee-4787-f6dd-973aefb8eec5"
      },
      "source": [
        "from keras.utils.vis_utils import plot_model\n",
        "plot_model(model,to_file='model_plot.png',show_shapes=True,show_layer_names=True)"
      ],
      "execution_count": 34,
      "outputs": [
        {
          "output_type": "execute_result",
          "data": {
            "image/png": "[encoded data removed]",
            "text/plain": [
              "<IPython.core.display.Image object>"
            ]
          },
          "metadata": {
            "tags": []
          },
          "execution_count": 34
        }
      ]
    },
    {
      "cell_type": "code",
      "metadata": {
        "colab": {
          "base_uri": "https://localhost:8080/",
          "height": 295
        },
        "id": "Sr5B-cL06daj",
        "outputId": "b9f782f0-787e-48e2-bc15-c562a2bf7c99"
      },
      "source": [
        "loss_train=history.history['loss']\n",
        "loss_val=history.history['val_loss']\n",
        "epochs=range(1,101)\n",
        "plt.plot(epochs, loss_train, 'g', label='Training loss')\n",
        "plt.plot(epochs, loss_val, 'b', label='Validation loss')\n",
        "plt.title('Training vs Validation loss')\n",
        "plt.xlabel('Epochs')\n",
        "plt.ylabel('Loss')\n",
        "plt.legend()\n",
        "plt.show()"
      ],
      "execution_count": 35,
      "outputs": [
        {
          "output_type": "display_data",
          "data": {
            "image/png": "[encoded data removed]",
            "text/plain": [
              "<Figure size 432x288 with 1 Axes>"
            ]
          },
          "metadata": {
            "tags": [],
            "needs_background": "light"
          }
        }
      ]
    },
    {
      "cell_type": "code",
      "metadata": {
        "colab": {
          "base_uri": "https://localhost:8080/",
          "height": 295
        },
        "id": "Wj5eu0iY6suc",
        "outputId": "e8604b0b-9460-4c73-e044-678203f7e11b"
      },
      "source": [
        "loss_train=history.history['accuracy']\n",
        "loss_val=history.history['val_accuracy']\n",
        "epochs=range(1,101)\n",
        "plt.plot(epochs,loss_train, 'g', label='Training accuracy')\n",
        "plt.plot(epochs,loss_val, 'b', label='Validation accuracy')\n",
        "plt.title('Training vs Validation accuracy')\n",
        "plt.xlabel('Epochs')\n",
        "plt.ylabel('Accuracy')\n",
        "plt.legend()\n",
        "plt.show()"
      ],
      "execution_count": 36,
      "outputs": [
        {
          "output_type": "display_data",
          "data": {
            "image/png": "[encoded data removed]",
            "text/plain": [
              "<Figure size 432x288 with 1 Axes>"
            ]
          },
          "metadata": {
            "tags": [],
            "needs_background": "light"
          }
        }
      ]
    },
    {
      "cell_type": "code",
      "metadata": {
        "id": "E4tgpueHsXXZ"
      },
      "source": [
        "y_predicted=model.predict(X_test)"
      ],
      "execution_count": 37,
      "outputs": []
    },
    {
      "cell_type": "code",
      "metadata": {
        "colab": {
          "base_uri": "https://localhost:8080/"
        },
        "id": "y0L-SHlGsjbS",
        "outputId": "8be73d61-f83d-43ae-eacf-58511da69830"
      },
      "source": [
        "y_predicted[0]"
      ],
      "execution_count": 38,
      "outputs": [
        {
          "output_type": "execute_result",
          "data": {
            "text/plain": [
              "array([9.2320291e-23, 1.5328094e-07, 1.3142001e-14, 8.2010822e-17,\n",
              "       1.6896946e-22, 1.5341975e-18, 1.2076090e-19, 4.5668760e-15,\n",
              "       1.7176532e-14, 9.9999988e-01], dtype=float32)"
            ]
          },
          "metadata": {
            "tags": []
          },
          "execution_count": 38
        }
      ]
    },
    {
      "cell_type": "code",
      "metadata": {
        "colab": {
          "base_uri": "https://localhost:8080/",
          "height": 292
        },
        "id": "rM8mZ1ymsk7l",
        "outputId": "fce452a3-3087-47d4-99e5-d45139f01d84"
      },
      "source": [
        "X_test=X_test.reshape(-1,28,28)\n",
        "plt.matshow(X_test[1])"
      ],
      "execution_count": 40,
      "outputs": [
        {
          "output_type": "execute_result",
          "data": {
            "text/plain": [
              "<matplotlib.image.AxesImage at 0x7ff1beefeed0>"
            ]
          },
          "metadata": {
            "tags": []
          },
          "execution_count": 40
        },
        {
          "output_type": "display_data",
          "data": {
            "image/png": "[encoded data removed]",
            "text/plain": [
              "<Figure size 288x288 with 1 Axes>"
            ]
          },
          "metadata": {
            "tags": [],
            "needs_background": "light"
          }
        }
      ]
    },
    {
      "cell_type": "code",
      "metadata": {
        "colab": {
          "base_uri": "https://localhost:8080/"
        },
        "id": "6LZb-gk9srhP",
        "outputId": "c3098549-605d-4de5-d21e-f0579b271730"
      },
      "source": [
        "np.argmax(y_predicted[1])"
      ],
      "execution_count": 41,
      "outputs": [
        {
          "output_type": "execute_result",
          "data": {
            "text/plain": [
              "6"
            ]
          },
          "metadata": {
            "tags": []
          },
          "execution_count": 41
        }
      ]
    },
    {
      "cell_type": "code",
      "metadata": {
        "id": "0shgwJYEs3jq"
      },
      "source": [
        "y_predicted_labels=[np.argmax(i) for i in y_predicted]"
      ],
      "execution_count": 42,
      "outputs": []
    },
    {
      "cell_type": "code",
      "metadata": {
        "colab": {
          "base_uri": "https://localhost:8080/"
        },
        "id": "EXAUdko5tKTj",
        "outputId": "8e18b801-fe52-45cb-c4e8-768563fa5413"
      },
      "source": [
        "y_predicted_labels[:10]"
      ],
      "execution_count": 43,
      "outputs": [
        {
          "output_type": "execute_result",
          "data": {
            "text/plain": [
              "[9, 6, 5, 8, 3, 5, 9, 2, 4, 8]"
            ]
          },
          "metadata": {
            "tags": []
          },
          "execution_count": 43
        }
      ]
    },
    {
      "cell_type": "code",
      "metadata": {
        "id": "Di_A_UMltN1y"
      },
      "source": [
        "confusion_matrix=tf.math.confusion_matrix(y_test,y_predicted_labels)"
      ],
      "execution_count": 44,
      "outputs": []
    },
    {
      "cell_type": "code",
      "metadata": {
        "colab": {
          "base_uri": "https://localhost:8080/",
          "height": 442
        },
        "id": "qk853xm6uCZW",
        "outputId": "ea9511df-8070-4ee9-e07c-f6b08363d312"
      },
      "source": [
        "import seaborn as sns\n",
        "plt.figure(figsize=(10,7))\n",
        "sns.heatmap(confusion_matrix,annot=True,fmt='d')\n",
        "plt.xlabel(\"Predicted\")\n",
        "plt.ylabel(\"True\")\n",
        "plt.show()"
      ],
      "execution_count": 45,
      "outputs": [
        {
          "output_type": "display_data",
          "data": {
            "image/png": "[encoded data removed]",
            "text/plain": [
              "<Figure size 720x504 with 2 Axes>"
            ]
          },
          "metadata": {
            "tags": [],
            "needs_background": "light"
          }
        }
      ]
    },
    {
      "cell_type": "code",
      "metadata": {
        "colab": {
          "base_uri": "https://localhost:8080/"
        },
        "id": "WQO5GBDftjMP",
        "outputId": "c5ea259b-e043-4b52-8050-f7fc0267ef5f"
      },
      "source": [
        "from sklearn.metrics import classification_report\n",
        "\n",
        "print(classification_report(y_test,y_predicted_labels))"
      ],
      "execution_count": 46,
      "outputs": [
        {
          "output_type": "stream",
          "text": [
            "              precision    recall  f1-score   support\n",
            "\n",
            "           0       0.99      0.99      0.99       597\n",
            "           1       0.97      0.98      0.98       596\n",
            "           2       0.98      0.99      0.98       583\n",
            "           3       1.00      0.97      0.98       641\n",
            "           4       0.99      0.99      0.99       643\n",
            "           5       0.98      0.98      0.98       619\n",
            "           6       0.99      0.98      0.98       606\n",
            "           7       0.99      1.00      0.99       624\n",
            "           8       0.98      0.99      0.98       646\n",
            "           9       0.97      0.97      0.97       611\n",
            "\n",
            "    accuracy                           0.98      6166\n",
            "   macro avg       0.98      0.98      0.98      6166\n",
            "weighted avg       0.98      0.98      0.98      6166\n",
            "\n"
          ],
          "name": "stdout"
        }
      ]
    },
    {
      "cell_type": "code",
      "metadata": {
        "colab": {
          "base_uri": "https://localhost:8080/",
          "height": 292
        },
        "id": "S3zY8d2BwcVZ",
        "outputId": "f673704e-0a8f-4685-e30c-f45c9e5dcf87"
      },
      "source": [
        "plt.matshow(X_test[0])\n",
        "print(\"Predicted Value is-----> \",y_predicted_labels[0])"
      ],
      "execution_count": 47,
      "outputs": [
        {
          "output_type": "stream",
          "text": [
            "Predicted Value is----->  9\n"
          ],
          "name": "stdout"
        },
        {
          "output_type": "display_data",
          "data": {
            "image/png": "[encoded data removed]",
            "text/plain": [
              "<Figure size 288x288 with 1 Axes>"
            ]
          },
          "metadata": {
            "tags": [],
            "needs_background": "light"
          }
        }
      ]
    },
    {
      "cell_type": "code",
      "metadata": {
        "colab": {
          "base_uri": "https://localhost:8080/",
          "height": 292
        },
        "id": "Nv_tvLWHxO_W",
        "outputId": "25b01f00-516f-4970-b091-15d54d5b9c36"
      },
      "source": [
        "plt.matshow(X_test[1])\n",
        "print(\"Predicted Value is-----> \",y_predicted_labels[1])"
      ],
      "execution_count": 48,
      "outputs": [
        {
          "output_type": "stream",
          "text": [
            "Predicted Value is----->  6\n"
          ],
          "name": "stdout"
        },
        {
          "output_type": "display_data",
          "data": {
            "image/png": "[encoded data removed]",
            "text/plain": [
              "<Figure size 288x288 with 1 Axes>"
            ]
          },
          "metadata": {
            "tags": [],
            "needs_background": "light"
          }
        }
      ]
    },
    {
      "cell_type": "code",
      "metadata": {
        "colab": {
          "base_uri": "https://localhost:8080/",
          "height": 292
        },
        "id": "lI5Z713L8RDm",
        "outputId": "319a2eec-bf74-4da5-92e4-89a2ac198d16"
      },
      "source": [
        "plt.matshow(X_test[2])\n",
        "print(\"Predicted Value is-----> \",y_predicted_labels[2])"
      ],
      "execution_count": 49,
      "outputs": [
        {
          "output_type": "stream",
          "text": [
            "Predicted Value is----->  5\n"
          ],
          "name": "stdout"
        },
        {
          "output_type": "display_data",
          "data": {
            "image/png": "[encoded data removed]",
            "text/plain": [
              "<Figure size 288x288 with 1 Axes>"
            ]
          },
          "metadata": {
            "tags": [],
            "needs_background": "light"
          }
        }
      ]
    },
    {
      "cell_type": "code",
      "metadata": {
        "colab": {
          "base_uri": "https://localhost:8080/",
          "height": 292
        },
        "id": "ffYaujYw8ROW",
        "outputId": "baf6bfa5-6b50-407a-a805-6cf7643d01d8"
      },
      "source": [
        "plt.matshow(X_test[3])\n",
        "print(\"Predicted Value is-----> \",y_predicted_labels[3])"
      ],
      "execution_count": 50,
      "outputs": [
        {
          "output_type": "stream",
          "text": [
            "Predicted Value is----->  8\n"
          ],
          "name": "stdout"
        },
        {
          "output_type": "display_data",
          "data": {
            "image/png": "[encoded data removed]",
            "text/plain": [
              "<Figure size 288x288 with 1 Axes>"
            ]
          },
          "metadata": {
            "tags": [],
            "needs_background": "light"
          }
        }
      ]
    },
    {
      "cell_type": "code",
      "metadata": {
        "colab": {
          "base_uri": "https://localhost:8080/",
          "height": 292
        },
        "id": "4QVveJrn8RZD",
        "outputId": "faf1aa00-036b-4589-9892-2ab256a7464f"
      },
      "source": [
        "plt.matshow(X_test[4])\n",
        "print(\"Predicted Value is-----> \",y_predicted_labels[5])"
      ],
      "execution_count": 51,
      "outputs": [
        {
          "output_type": "stream",
          "text": [
            "Predicted Value is----->  5\n"
          ],
          "name": "stdout"
        },
        {
          "output_type": "display_data",
          "data": {
            "image/png": "[encoded data removed]",
            "text/plain": [
              "<Figure size 288x288 with 1 Axes>"
            ]
          },
          "metadata": {
            "tags": [],
            "needs_background": "light"
          }
        }
      ]
    },
    {
      "cell_type": "code",
      "metadata": {
        "colab": {
          "base_uri": "https://localhost:8080/",
          "height": 292
        },
        "id": "O1Wpf9178Rkw",
        "outputId": "32aae8ca-6cb2-4b78-9e92-97c7c2047982"
      },
      "source": [
        "plt.matshow(X_test[5])\n",
        "print(\"Predicted Value is-----> \",y_predicted_labels[5])"
      ],
      "execution_count": 52,
      "outputs": [
        {
          "output_type": "stream",
          "text": [
            "Predicted Value is----->  5\n"
          ],
          "name": "stdout"
        },
        {
          "output_type": "display_data",
          "data": {
            "image/png": "[encoded data removed]",
            "text/plain": [
              "<Figure size 288x288 with 1 Axes>"
            ]
          },
          "metadata": {
            "tags": [],
            "needs_background": "light"
          }
        }
      ]
    },
    {
      "cell_type": "code",
      "metadata": {
        "colab": {
          "base_uri": "https://localhost:8080/",
          "height": 292
        },
        "id": "9CdemvVc8R04",
        "outputId": "423f8407-0b8d-4c2a-e60e-5f16f1875e56"
      },
      "source": [
        "plt.matshow(X_test[6])\n",
        "print(\"Predicted Value is-----> \",y_predicted_labels[6])"
      ],
      "execution_count": 53,
      "outputs": [
        {
          "output_type": "stream",
          "text": [
            "Predicted Value is----->  9\n"
          ],
          "name": "stdout"
        },
        {
          "output_type": "display_data",
          "data": {
            "image/png": "[encoded data removed]",
            "text/plain": [
              "<Figure size 288x288 with 1 Axes>"
            ]
          },
          "metadata": {
            "tags": [],
            "needs_background": "light"
          }
        }
      ]
    },
    {
      "cell_type": "code",
      "metadata": {
        "colab": {
          "base_uri": "https://localhost:8080/",
          "height": 292
        },
        "id": "-rcm1q6x8SNr",
        "outputId": "629f2968-68e9-4df9-d5bd-91b388b7c4bd"
      },
      "source": [
        "plt.matshow(X_test[7])\n",
        "print(\"Predicted Value is-----> \",y_predicted_labels[7])"
      ],
      "execution_count": 54,
      "outputs": [
        {
          "output_type": "stream",
          "text": [
            "Predicted Value is----->  2\n"
          ],
          "name": "stdout"
        },
        {
          "output_type": "display_data",
          "data": {
            "image/png": "[encoded data removed]",
            "text/plain": [
              "<Figure size 288x288 with 1 Axes>"
            ]
          },
          "metadata": {
            "tags": [],
            "needs_background": "light"
          }
        }
      ]
    },
    {
      "cell_type": "code",
      "metadata": {
        "colab": {
          "base_uri": "https://localhost:8080/",
          "height": 292
        },
        "id": "hLOPPpoS8SXI",
        "outputId": "81d64b5d-e363-4abe-c73f-606f4f331a5f"
      },
      "source": [
        "plt.matshow(X_test[8])\n",
        "print(\"Predicted Value is-----> \",y_predicted_labels[8])"
      ],
      "execution_count": 55,
      "outputs": [
        {
          "output_type": "stream",
          "text": [
            "Predicted Value is----->  4\n"
          ],
          "name": "stdout"
        },
        {
          "output_type": "display_data",
          "data": {
            "image/png": "[encoded data removed]",
            "text/plain": [
              "<Figure size 288x288 with 1 Axes>"
            ]
          },
          "metadata": {
            "tags": [],
            "needs_background": "light"
          }
        }
      ]
    },
    {
      "cell_type": "code",
      "metadata": {
        "colab": {
          "base_uri": "https://localhost:8080/",
          "height": 292
        },
        "id": "p8SQsWFl8SgR",
        "outputId": "95a64d3b-734b-40e0-e652-d14f56cd8c28"
      },
      "source": [
        "plt.matshow(X_test[9])\n",
        "print(\"Predicted Value is-----> \",y_predicted_labels[9])"
      ],
      "execution_count": 56,
      "outputs": [
        {
          "output_type": "stream",
          "text": [
            "Predicted Value is----->  8\n"
          ],
          "name": "stdout"
        },
        {
          "output_type": "display_data",
          "data": {
            "image/png": "[encoded data removed]",
            "text/plain": [
              "<Figure size 288x288 with 1 Axes>"
            ]
          },
          "metadata": {
            "tags": [],
            "needs_background": "light"
          }
        }
      ]
    },
    {
      "cell_type": "code",
      "metadata": {
        "colab": {
          "base_uri": "https://localhost:8080/"
        },
        "id": "LOaiKGWivV_E",
        "outputId": "1fafa151-251b-4ca9-e998-7bec0ad9c1c5"
      },
      "source": [
        "!pip install gradio"
      ],
      "execution_count": 60,
      "outputs": [
        {
          "output_type": "stream",
          "text": [
            "Collecting gradio\n",
            "\u001b[?25l  Downloading https://files.pythonhosted.org/packages/a4/45/0f2d4b4b55c1bccadd1983cfac35788ddadc0e0f70722b90b557088c634b/gradio-1.7.7-py3-none-any.whl (1.1MB)\n",
            "\u001b[K     |████████████████████████████████| 1.1MB 11.3MB/s \n",
            "\u001b[?25hCollecting paramiko\n",
            "\u001b[?25l  Downloading https://files.pythonhosted.org/packages/95/19/124e9287b43e6ff3ebb9cdea3e5e8e88475a873c05ccdf8b7e20d2c4201e/paramiko-2.7.2-py2.py3-none-any.whl (206kB)\n",
            "\u001b[K     |████████████████████████████████| 215kB 63.0MB/s \n",
            "\u001b[?25hCollecting markdown2\n",
            "  Downloading https://files.pythonhosted.org/packages/5d/be/3924cc1c0e12030b5225de2b4521f1dc729730773861475de26be64a0d2b/markdown2-2.4.0-py2.py3-none-any.whl\n",
            "Collecting Flask-Login\n",
            "  Downloading https://files.pythonhosted.org/packages/2b/83/ac5bf3279f969704fc1e63f050c50e10985e50fd340e6069ec7e09df5442/Flask_Login-0.5.0-py2.py3-none-any.whl\n",
            "Requirement already satisfied: requests in /usr/local/lib/python3.7/dist-packages (from gradio) (2.23.0)\n",
            "Requirement already satisfied: Flask>=1.1.1 in /usr/local/lib/python3.7/dist-packages (from gradio) (1.1.2)\n",
            "Collecting pycryptodome\n",
            "\u001b[?25l  Downloading https://files.pythonhosted.org/packages/ad/16/9627ab0493894a11c68e46000dbcc82f578c8ff06bc2980dcd016aea9bd3/pycryptodome-3.10.1-cp35-abi3-manylinux2010_x86_64.whl (1.9MB)\n",
            "\u001b[K     |████████████████████████████████| 1.9MB 67.3MB/s \n",
            "\u001b[?25hRequirement already satisfied: scipy in /usr/local/lib/python3.7/dist-packages (from gradio) (1.4.1)\n",
            "Collecting ffmpy\n",
            "  Downloading https://files.pythonhosted.org/packages/bf/e2/947df4b3d666bfdd2b0c6355d215c45d2d40f929451cb29a8a2995b29788/ffmpy-0.3.0.tar.gz\n",
            "Requirement already satisfied: pandas in /usr/local/lib/python3.7/dist-packages (from gradio) (1.1.5)\n",
            "Requirement already satisfied: matplotlib in /usr/local/lib/python3.7/dist-packages (from gradio) (3.2.2)\n",
            "Collecting analytics-python\n",
            "  Downloading https://files.pythonhosted.org/packages/30/81/2f447982f8d5dec5b56c10ca9ac53e5de2b2e9e2bdf7e091a05731f21379/analytics_python-1.3.1-py2.py3-none-any.whl\n",
            "Requirement already satisfied: pillow in /usr/local/lib/python3.7/dist-packages (from gradio) (7.1.2)\n",
            "Collecting Flask-Cors>=3.0.8\n",
            "  Downloading https://files.pythonhosted.org/packages/db/84/901e700de86604b1c4ef4b57110d4e947c218b9997adf5d38fa7da493bce/Flask_Cors-3.0.10-py2.py3-none-any.whl\n",
            "Collecting flask-cachebuster\n",
            "  Downloading https://files.pythonhosted.org/packages/74/47/f3e1fedfaad965c81c2f17234636d72f71450f1b4522ca26d2b7eb4a0a74/Flask-CacheBuster-1.0.0.tar.gz\n",
            "Requirement already satisfied: numpy in /usr/local/lib/python3.7/dist-packages (from gradio) (1.19.5)\n",
            "Collecting cryptography>=2.5\n",
            "\u001b[?25l  Downloading https://files.pythonhosted.org/packages/b2/26/7af637e6a7e87258b963f1731c5982fb31cd507f0d90d91836e446955d02/cryptography-3.4.7-cp36-abi3-manylinux2014_x86_64.whl (3.2MB)\n",
            "\u001b[K     |████████████████████████████████| 3.2MB 42.7MB/s \n",
            "\u001b[?25hCollecting bcrypt>=3.1.3\n",
            "\u001b[?25l  Downloading https://files.pythonhosted.org/packages/26/70/6d218afbe4c73538053c1016dd631e8f25fffc10cd01f5c272d7acf3c03d/bcrypt-3.2.0-cp36-abi3-manylinux2010_x86_64.whl (63kB)\n",
            "\u001b[K     |████████████████████████████████| 71kB 6.4MB/s \n",
            "\u001b[?25hCollecting pynacl>=1.0.1\n",
            "\u001b[?25l  Downloading https://files.pythonhosted.org/packages/9d/57/2f5e6226a674b2bcb6db531e8b383079b678df5b10cdaa610d6cf20d77ba/PyNaCl-1.4.0-cp35-abi3-manylinux1_x86_64.whl (961kB)\n",
            "\u001b[K     |████████████████████████████████| 962kB 48.4MB/s \n",
            "\u001b[?25hRequirement already satisfied: idna<3,>=2.5 in /usr/local/lib/python3.7/dist-packages (from requests->gradio) (2.10)\n",
            "Requirement already satisfied: urllib3!=1.25.0,!=1.25.1,<1.26,>=1.21.1 in /usr/local/lib/python3.7/dist-packages (from requests->gradio) (1.24.3)\n",
            "Requirement already satisfied: certifi>=2017.4.17 in /usr/local/lib/python3.7/dist-packages (from requests->gradio) (2020.12.5)\n",
            "Requirement already satisfied: chardet<4,>=3.0.2 in /usr/local/lib/python3.7/dist-packages (from requests->gradio) (3.0.4)\n",
            "Requirement already satisfied: Werkzeug>=0.15 in /usr/local/lib/python3.7/dist-packages (from Flask>=1.1.1->gradio) (2.0.0)\n",
            "Requirement already satisfied: click>=5.1 in /usr/local/lib/python3.7/dist-packages (from Flask>=1.1.1->gradio) (8.0.0)\n",
            "Requirement already satisfied: Jinja2>=2.10.1 in /usr/local/lib/python3.7/dist-packages (from Flask>=1.1.1->gradio) (2.11.3)\n",
            "Requirement already satisfied: itsdangerous>=0.24 in /usr/local/lib/python3.7/dist-packages (from Flask>=1.1.1->gradio) (2.0.0)\n",
            "Requirement already satisfied: python-dateutil>=2.7.3 in /usr/local/lib/python3.7/dist-packages (from pandas->gradio) (2.8.1)\n",
            "Requirement already satisfied: pytz>=2017.2 in /usr/local/lib/python3.7/dist-packages (from pandas->gradio) (2018.9)\n",
            "Requirement already satisfied: kiwisolver>=1.0.1 in /usr/local/lib/python3.7/dist-packages (from matplotlib->gradio) (1.3.1)\n",
            "Requirement already satisfied: pyparsing!=2.0.4,!=2.1.2,!=2.1.6,>=2.0.1 in /usr/local/lib/python3.7/dist-packages (from matplotlib->gradio) (2.4.7)\n",
            "Requirement already satisfied: cycler>=0.10 in /usr/local/lib/python3.7/dist-packages (from matplotlib->gradio) (0.10.0)\n",
            "Collecting backoff==1.10.0\n",
            "  Downloading https://files.pythonhosted.org/packages/f0/32/c5dd4f4b0746e9ec05ace2a5045c1fc375ae67ee94355344ad6c7005fd87/backoff-1.10.0-py2.py3-none-any.whl\n",
            "Collecting monotonic>=1.5\n",
            "  Downloading https://files.pythonhosted.org/packages/9a/67/7e8406a29b6c45be7af7740456f7f37025f0506ae2e05fb9009a53946860/monotonic-1.6-py2.py3-none-any.whl\n",
            "Requirement already satisfied: six>=1.5 in /usr/local/lib/python3.7/dist-packages (from analytics-python->gradio) (1.15.0)\n",
            "Requirement already satisfied: cffi>=1.12 in /usr/local/lib/python3.7/dist-packages (from cryptography>=2.5->paramiko->gradio) (1.14.5)\n",
            "Requirement already satisfied: MarkupSafe>=0.23 in /usr/local/lib/python3.7/dist-packages (from Jinja2>=2.10.1->Flask>=1.1.1->gradio) (2.0.0)\n",
            "Requirement already satisfied: pycparser in /usr/local/lib/python3.7/dist-packages (from cffi>=1.12->cryptography>=2.5->paramiko->gradio) (2.20)\n",
            "Building wheels for collected packages: ffmpy, flask-cachebuster\n",
            "  Building wheel for ffmpy (setup.py) ... \u001b[?25l\u001b[?25hdone\n",
            "  Created wheel for ffmpy: filename=ffmpy-0.3.0-cp37-none-any.whl size=4710 sha256=deda92a76a1bdfb4f20f5b9ba46423ac28ab709fc51d4d156fa33ee2a1156335\n",
            "  Stored in directory: /root/.cache/pip/wheels/cc/ac/c4/bef572cb7e52bfca170046f567e64858632daf77e0f34e5a74\n",
            "  Building wheel for flask-cachebuster (setup.py) ... \u001b[?25l\u001b[?25hdone\n",
            "  Created wheel for flask-cachebuster: filename=Flask_CacheBuster-1.0.0-cp37-none-any.whl size=3372 sha256=85d14fa6eb423156e4f6a114363e74312a60654cba28b1a2ef048067daf32ddf\n",
            "  Stored in directory: /root/.cache/pip/wheels/9f/fc/a7/ab5712c3ace9a8f97276465cc2937316ab8063c1fea488ea77\n",
            "Successfully built ffmpy flask-cachebuster\n",
            "Installing collected packages: cryptography, bcrypt, pynacl, paramiko, markdown2, Flask-Login, pycryptodome, ffmpy, backoff, monotonic, analytics-python, Flask-Cors, flask-cachebuster, gradio\n",
            "Successfully installed Flask-Cors-3.0.10 Flask-Login-0.5.0 analytics-python-1.3.1 backoff-1.10.0 bcrypt-3.2.0 cryptography-3.4.7 ffmpy-0.3.0 flask-cachebuster-1.0.0 gradio-1.7.7 markdown2-2.4.0 monotonic-1.6 paramiko-2.7.2 pycryptodome-3.10.1 pynacl-1.4.0\n"
          ],
          "name": "stdout"
        }
      ]
    },
    {
      "cell_type": "code",
      "metadata": {
        "id": "SagcHcBqx5qX"
      },
      "source": [
        "import gradio as gd"
      ],
      "execution_count": 61,
      "outputs": []
    },
    {
      "cell_type": "code",
      "metadata": {
        "id": "4zP26IJByCjN"
      },
      "source": [
        "def predict(image):\n",
        "  image=image.reshape(-1,28,28,1)\n",
        "  image=image/255\n",
        "  pred=model.predict(image)\n",
        "  pred=np.argmax(pred)\n",
        "\n",
        "  return pred"
      ],
      "execution_count": 65,
      "outputs": []
    },
    {
      "cell_type": "code",
      "metadata": {
        "id": "V4W2krjXydPW"
      },
      "source": [
        "interface=gd.Interface(predict,inputs='sketchpad',outputs='label',title='Bangla Handwritten Digit Recognition')"
      ],
      "execution_count": 68,
      "outputs": []
    },
    {
      "cell_type": "code",
      "metadata": {
        "colab": {
          "base_uri": "https://localhost:8080/",
          "height": 589
        },
        "id": "fn2LEyzoywkj",
        "outputId": "942574f4-75cc-4a23-d87a-871131f3b902"
      },
      "source": [
        "interface.launch(debug=True)"
      ],
      "execution_count": null,
      "outputs": [
        {
          "output_type": "stream",
          "text": [
            "Colab notebook detected. This cell will run indefinitely so that you can see errors and logs. To turn off, set debug=False in launch().\n",
            "This share link will expire in 24 hours. If you need a permanent link, visit: https://gradio.app/introducing-hosted (NEW!)\n",
            "Running on External URL: https://10014.gradio.app\n",
            "Interface loading below...\n"
          ],
          "name": "stdout"
        },
        {
          "output_type": "display_data",
          "data": {
            "text/html": [
              "\n",
              "        <iframe\n",
              "            width=\"1000\"\n",
              "            height=\"500\"\n",
              "            src=\"https://10014.gradio.app\"\n",
              "            frameborder=\"0\"\n",
              "            allowfullscreen\n",
              "        ></iframe>\n",
              "        "
            ],
            "text/plain": [
              "<IPython.lib.display.IFrame at 0x7ff1af84bc10>"
            ]
          },
          "metadata": {
            "tags": []
          }
        }
      ]
    },
    {
      "cell_type": "code",
      "metadata": {
        "id": "Fjh9ckoIy4Vd"
      },
      "source": [
        ""
      ],
      "execution_count": null,
      "outputs": []
    }
  ]
}